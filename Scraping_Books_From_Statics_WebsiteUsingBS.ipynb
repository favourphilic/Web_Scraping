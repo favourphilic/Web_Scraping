{
 "cells": [
  {
   "cell_type": "markdown",
   "id": "a2dd1c34",
   "metadata": {},
   "source": [
    "## WebScraping with BeautifulSoup"
   ]
  },
  {
   "cell_type": "markdown",
   "id": "e863992a",
   "metadata": {},
   "source": [
    "In this post, we'll create a dataset of popular books in different genres by scraping the site Books To Scrape: http://books.toscrape.com using Requests library and BeautifulSoup."
   ]
  },
  {
   "cell_type": "markdown",
   "id": "604f76e8",
   "metadata": {},
   "source": [
    "One of the main aim of web scraping is to automate the process of extracting information/data from the web. The field is still in active development and it has application in various areas such as monitoring e-commerce prices, gathering web data automatically, applying machine learning techniques, investment opportunoites and generating sale leads."
   ]
  },
  {
   "cell_type": "markdown",
   "id": "bc01a5e2",
   "metadata": {},
   "source": [
    "The process of extracting data from the web  is now easy thanks to a number of libraries that are available. Most popular libraries used for web scraping  include Beautiful Soup, Scrapy, Selenium, Requests, e.t.c. Interestingly, The choice of any of these libraries can be made by careful consideration of the pros and cons  of each of the libraries. For instance, if we want to retrieve information or data from a site, it is paramount to first understand the nature of the site, whether its a static or dynamic page. With static sites,which are web page made with fixed codes. This means that they don't have comment section, log-in or any form of interactivity, it is easier to create and form the most basic type of all websites. For such sites, it is common to use libraries such as requests and beautiful soup, while dynamic site which are Javascript driven and involves a number of interactivity and ability to create user profiles  should be scraped with libraries such as selenium or scrapy. When we scrape a website, we do this by fetching specific information from the web page by locating certain elements of the page. This is done by using the requests library, once the contents have been downloaded, it can then be parsed and searched by another library such as beautifulsoup and the desired information retrieved can be load into a spreadsheet or database for later use."
   ]
  },
  {
   "cell_type": "markdown",
   "id": "4ecb2100",
   "metadata": {},
   "source": [
    "In this blog post I will be using requests library and beautiful soup to extract data from a static page, called Book-To_Scrape. It all about 1000 books belonging to different genre.\n",
    "\n",
    "Before we begin ensure you already have libraries installed  into your environment using pip or conda.Another option is to use a notebook such as google colab which most of the required libraries pre installed."
   ]
  },
  {
   "cell_type": "markdown",
   "id": "09d9af3a",
   "metadata": {},
   "source": [
    "#### Import Required Libraries\n",
    "A. Request Library\n",
    "* Requests is an elegant and simple HTTP library for Python, built for human beings.\n",
    "* It officiall support Python 3.7+\n",
    "  The first step to using the request library is to ensure that it has been installed and updated."
   ]
  },
  {
   "cell_type": "code",
   "execution_count": 1,
   "id": "21ac7013",
   "metadata": {},
   "outputs": [],
   "source": [
    "\n",
    "import requests\n",
    "from bs4 import BeautifulSoup\n",
    "import pandas as pd"
   ]
  },
  {
   "cell_type": "code",
   "execution_count": 77,
   "id": "5e439bf8",
   "metadata": {},
   "outputs": [],
   "source": [
    "url = 'http://books.toscrape.com/catalogue/category/books_1/page-1.html'\n",
    "r = requests.get(url)"
   ]
  },
  {
   "cell_type": "markdown",
   "id": "5e664833",
   "metadata": {},
   "source": [
    "* r is a response object which we get after calling request.get on a static website, and it contains all needed information on the site.\n"
   ]
  },
  {
   "cell_type": "code",
   "execution_count": 3,
   "id": "6aa87aa7",
   "metadata": {},
   "outputs": [
    {
     "data": {
      "text/plain": [
       "200"
      ]
     },
     "execution_count": 3,
     "metadata": {},
     "output_type": "execute_result"
    }
   ],
   "source": [
    "# We can check the status code of the url page \n",
    "r.status_code"
   ]
  },
  {
   "cell_type": "markdown",
   "id": "381d6ef5",
   "metadata": {},
   "source": [
    "The Status-Code element in a server response, is a 3-digit integer.The first digit of the code defines the class of response and the last two digits do not have any categorization role. \n",
    "\n",
    "If the first digit is 2 : means the action was successfully received, understood, and accepted. Therefore, we have permission to scrape the site."
   ]
  },
  {
   "cell_type": "code",
   "execution_count": 9,
   "id": "f2845d14",
   "metadata": {},
   "outputs": [
    {
     "data": {
      "text/plain": [
       "'<!DOCTYPE html>\\n<!--[if lt IE 7]>      <html lang=\"en-us\" class=\"no-js lt-ie9 lt-ie8 lt-ie7\"> <![endif]-->\\n<!--[if IE 7]>         <html lang=\"en-us\" class=\"no-js lt-ie9 lt-ie8\"> <![endif]-->\\n<!--[if IE 8]>         <html lang=\"en-us\" class=\"no-js lt-ie9\"> <![endif]-->\\n<!--[if gt IE 8]><!--> <html lang=\"en-us\" class=\"no-js\"> <!--<![endif]-->\\n    <head>\\n        <title>\\n    All products | Books to Scrape - Sandbox\\n</title>\\n\\n        <meta http-equiv=\"content-type\" content=\"text/html; charset=UTF-8\" />\\n        <meta name=\"created\" content=\"24th Jun 2016 09:29\" />\\n        <meta name=\"description\" content=\"\" />\\n        <meta name=\"viewport\" content=\"width=device-width\" />\\n        <meta name=\"robots\" content=\"NOARCHIVE,NOCACHE\" />\\n\\n        <!-- Le HTML5 shim, for IE6-8 support of HTML elements -->\\n        <!--[if lt IE 9]>\\n        <script src=\"//html5shim.googlecode.com/svn/trunk/html5.js\"></script>\\n        <![endif]-->\\n\\n        \\n            <link rel=\"shortcut icon\" href=\"static/oscar/favicon.ico\" />\\n        \\n\\n        \\n        \\n    \\n    \\n        <link rel=\"stylesheet\" type=\"text/css\" href=\"static/oscar/css/styles.css\" />\\n    \\n    <link rel=\"stylesheet\" href=\"static/oscar/js/bootstrap-datetimepicker/bootstrap-datetimepicker.css\" />\\n    <link rel=\"stylesheet\" type=\"text/css\" href=\"static/oscar/css/datetimepicker.css\" />\\n\\n\\n        \\n        \\n\\n        \\n\\n        \\n            \\n            \\n\\n        \\n    </head>\\n\\n    <body id=\"default\" class=\"default\">\\n        \\n        \\n    \\n    \\n    <header class=\"header container-fluid\">\\n        <div class=\"page_inner\">\\n            <div class=\"row\">\\n                <div class=\"col-sm-8 h1\"><a href=\"index.html\">Books to Scrape</a><small> We love being scraped!</small>\\n</div>\\n\\n                \\n            </div>\\n        </div>\\n    </header>\\n\\n    \\n    \\n<div class=\"container-fluid page\">\\n    <div class=\"page_inner\">\\n        \\n    <ul class=\"breadcrumb\">\\n        <li>\\n            <a href=\"index.html\">Home</a>\\n        </li>\\n        <li class=\"active\">All products</li>\\n    </ul>\\n\\n        <div class=\"row\">\\n\\n            <aside class=\"sidebar col-sm-4 col-md-3\">\\n                \\n                <div id=\"promotions_left\">\\n                    \\n                </div>\\n                \\n    \\n    \\n        \\n        <div class=\"side_categories\">\\n            <ul class=\"nav nav-list\">\\n                \\n                    <li>\\n                        <a href=\"catalogue/category/books_1/index.html\">\\n                            \\n                                Books\\n                            \\n                        </a>\\n\\n                        <ul>\\n                        \\n                \\n                    <li>\\n                        <a href=\"catalogue/category/books/travel_2/index.html\">\\n                            \\n                                Travel\\n                            \\n                        </a>\\n\\n                        </li>\\n                        \\n                \\n                    <li>\\n                        <a href=\"catalogue/category/books/mystery_3/index.html\">\\n                            \\n                                Mystery\\n                            \\n                        </a>\\n\\n                        </li>\\n                        \\n                \\n                    <li>\\n                        <a href=\"catalogue/category/books/historical-fiction_4/index.html\">\\n                            \\n                                Historical Fiction\\n                            \\n                        </a>\\n\\n                        </li>\\n                        \\n                \\n                    <li>\\n                        <a href=\"catalogue/category/books/sequential-art_5/index.html\">\\n                            \\n                                Sequential Art\\n                            \\n                        </a>\\n\\n                        </li>\\n                        \\n                \\n                    <li>\\n                        <a href=\"catalogue/category/books/classics_6/index.html\">\\n                            \\n                                Classics\\n                            \\n                        </a>\\n\\n                        </li>\\n                        \\n                \\n                    <li>\\n                        <a href=\"catalogue/category/books/philosophy_7/index.html\">\\n                            \\n                                Philosophy\\n                            \\n                        </a>\\n\\n                        </li>\\n                        \\n                \\n                    <li>\\n                        <a href=\"catalogue/category/books/romance_8/index.html\">\\n                            \\n                                Romance\\n                            \\n                        </a>\\n\\n                        </li>\\n                        \\n                \\n                    <li>\\n                        <a href=\"catalogue/category/books/womens-fiction_9/index.html\">\\n                            \\n                                Womens Fiction\\n                            \\n                        </a>\\n\\n                        </li>\\n                        \\n                \\n                    <li>\\n                        <a href=\"catalogue/category/books/fiction_10/index.html\">\\n                            \\n                                Fiction\\n                            \\n                        </a>\\n\\n                        </li>\\n                        \\n                \\n                    <li>\\n                        <a href=\"catalogue/category/books/childrens_11/index.html\">\\n                            \\n                                Childrens\\n                            \\n                        </a>\\n\\n                        </li>\\n                        \\n                \\n                    <li>\\n                        <a href=\"catalogue/category/books/religion_12/index.html\">\\n                            \\n                                Religion\\n                            \\n                        </a>\\n\\n                        </li>\\n                        \\n                \\n                    <li>\\n                        <a href=\"catalogue/category/books/nonfiction_13/index.html\">\\n                            \\n                                Nonfiction\\n                            \\n                        </a>\\n\\n                        </li>\\n                        \\n                \\n                    <li>\\n                        <a href=\"catalogue/category/books/music_14/index.html\">\\n                            \\n                                Music\\n                            \\n                        </a>\\n\\n                        </li>\\n                        \\n                \\n                    <li>\\n                        <a href=\"catalogue/category/books/default_15/index.html\">\\n                            \\n                                Default\\n                            \\n                        </a>\\n\\n                        </li>\\n                        \\n                \\n                    <li>\\n                        <a href=\"catalogue/category/books/science-fiction_16/index.html\">\\n                            \\n                                Science Fiction\\n                            \\n                        </a>\\n\\n                        </li>\\n                        \\n                \\n                    <li>\\n                        <a href=\"catalogue/category/books/sports-and-games_17/index.html\">\\n                            \\n                                Sports and Games\\n                            \\n                        </a>\\n\\n                        </li>\\n                        \\n                \\n                    <li>\\n                        <a href=\"catalogue/category/books/add-a-comment_18/index.html\">\\n                            \\n                                Add a comment\\n                            \\n                        </a>\\n\\n                        </li>\\n                        \\n                \\n                    <li>\\n                        <a href=\"catalogue/category/books/fantasy_19/index.html\">\\n                            \\n                                Fantasy\\n                            \\n                        </a>\\n\\n                        </li>\\n                        \\n                \\n                    <li>\\n                        <a href=\"catalogue/category/books/new-adult_20/index.html\">\\n                            \\n                                New Adult\\n                            \\n                        </a>\\n\\n                        </li>\\n                        \\n                \\n                    <li>\\n                        <a href=\"catalogue/category/books/young-adult_21/index.html\">\\n                            \\n                                Young Adult\\n                            \\n                        </a>\\n\\n                        </li>\\n                        \\n                \\n                    <li>\\n                        <a href=\"catalogue/category/books/science_22/index.html\">\\n                            \\n                                Science\\n                            \\n                        </a>\\n\\n                        </li>\\n                        \\n                \\n                    <li>\\n                        <a href=\"catalogue/category/books/poetry_23/index.html\">\\n                            \\n                                Poetry\\n                            \\n                        </a>\\n\\n                        </li>\\n                        \\n                \\n                    <li>\\n                        <a href=\"catalogue/category/books/paranormal_24/index.html\">\\n                            \\n                                Paranormal\\n                            \\n                        </a>\\n\\n                        </li>\\n                        \\n                \\n                    <li>\\n                        <a href=\"catalogue/category/books/art_25/index.html\">\\n                            \\n                                Art\\n                            \\n                        </a>\\n\\n                        </li>\\n                        \\n                \\n                    <li>\\n                        <a href=\"catalogue/category/books/psychology_26/index.html\">\\n                            \\n                                Psychology\\n                            \\n                        </a>\\n\\n                        </li>\\n                        \\n                \\n                    <li>\\n                        <a href=\"catalogue/category/books/autobiography_27/index.html\">\\n                            \\n                                Autobiography\\n                            \\n                        </a>\\n\\n                        </li>\\n                        \\n                \\n                    <li>\\n                        <a href=\"catalogue/category/books/parenting_28/index.html\">\\n                            \\n                                Parenting\\n                            \\n                        </a>\\n\\n                        </li>\\n                        \\n                \\n                    <li>\\n                        <a href=\"catalogue/category/books/adult-fiction_29/index.html\">\\n                            \\n                                Adult Fiction\\n                            \\n                        </a>\\n\\n                        </li>\\n                        \\n                \\n                    <li>\\n                        <a href=\"catalogue/category/books/humor_30/index.html\">\\n                            \\n                                Humor\\n                            \\n                        </a>\\n\\n                        </li>\\n                        \\n                \\n                    <li>\\n                        <a href=\"catalogue/category/books/horror_31/index.html\">\\n                            \\n                                Horror\\n                            \\n                        </a>\\n\\n                        </li>\\n                        \\n                \\n                    <li>\\n                        <a href=\"catalogue/category/books/history_32/index.html\">\\n                            \\n                                History\\n                            \\n                        </a>\\n\\n                        </li>\\n                        \\n                \\n                    <li>\\n                        <a href=\"catalogue/category/books/food-and-drink_33/index.html\">\\n                            \\n                                Food and Drink\\n                            \\n                        </a>\\n\\n                        </li>\\n                        \\n                \\n                    <li>\\n                        <a href=\"catalogue/category/books/christian-fiction_34/index.html\">\\n                            \\n                                Christian Fiction\\n                            \\n                        </a>\\n\\n                        </li>\\n                        \\n                \\n                    <li>\\n                        <a href=\"catalogue/category/books/business_35/index.html\">\\n                            \\n                                Business\\n                            \\n                        </a>\\n\\n                        </li>\\n                        \\n                \\n                    <li>\\n                        <a href=\"catalogue/category/books/biography_36/index.html\">\\n                            \\n                                Biography\\n                            \\n                        </a>\\n\\n                        </li>\\n                        \\n                \\n                    <li>\\n                        <a href=\"catalogue/category/books/thriller_37/index.html\">\\n                            \\n                                Thriller\\n                            \\n                        </a>\\n\\n                        </li>\\n                        \\n                \\n                    <li>\\n                        <a href=\"catalogue/category/books/contemporary_38/index.html\">\\n                            \\n                                Contemporary\\n                            \\n                        </a>\\n\\n                        </li>\\n                        \\n                \\n                    <li>\\n                        <a href=\"catalogue/category/books/spirituality_39/index.html\">\\n                            \\n                                Spirituality\\n                            \\n                        </a>\\n\\n                        </li>\\n                        \\n                \\n                    <li>\\n                        <a href=\"catalogue/category/books/academic_40/index.html\">\\n                            \\n                                Academic\\n                            \\n                        </a>\\n\\n                        </li>\\n                        \\n                \\n                    <li>\\n                        <a href=\"catalogue/category/books/self-help_41/index.html\">\\n                            \\n                                Self Help\\n                            \\n                        </a>\\n\\n                        </li>\\n                        \\n                \\n                    <li>\\n                        <a href=\"catalogue/category/books/historical_42/index.html\">\\n                            \\n                                Historical\\n                            \\n                        </a>\\n\\n                        </li>\\n                        \\n                \\n                    <li>\\n                        <a href=\"catalogue/category/books/christian_43/index.html\">\\n                            \\n                                Christian\\n                            \\n                        </a>\\n\\n                        </li>\\n                        \\n                \\n                    <li>\\n                        <a href=\"catalogue/category/books/suspense_44/index.html\">\\n                            \\n                                Suspense\\n                            \\n                        </a>\\n\\n                        </li>\\n                        \\n                \\n                    <li>\\n                        <a href=\"catalogue/category/books/short-stories_45/index.html\">\\n                            \\n                                Short Stories\\n                            \\n                        </a>\\n\\n                        </li>\\n                        \\n                \\n                    <li>\\n                        <a href=\"catalogue/category/books/novels_46/index.html\">\\n                            \\n                                Novels\\n                            \\n                        </a>\\n\\n                        </li>\\n                        \\n                \\n                    <li>\\n                        <a href=\"catalogue/category/books/health_47/index.html\">\\n                            \\n                                Health\\n                            \\n                        </a>\\n\\n                        </li>\\n                        \\n                \\n                    <li>\\n                        <a href=\"catalogue/category/books/politics_48/index.html\">\\n                            \\n                                Politics\\n                            \\n                        </a>\\n\\n                        </li>\\n                        \\n                \\n                    <li>\\n                        <a href=\"catalogue/category/books/cultural_49/index.html\">\\n                            \\n                                Cultural\\n                            \\n                        </a>\\n\\n                        </li>\\n                        \\n                \\n                    <li>\\n                        <a href=\"catalogue/category/books/erotica_50/index.html\">\\n                            \\n                                Erotica\\n                            \\n                        </a>\\n\\n                        </li>\\n                        \\n                \\n                    <li>\\n                        <a href=\"catalogue/category/books/crime_51/index.html\">\\n                            \\n                                Crime\\n                            \\n                        </a>\\n\\n                        </li>\\n                        \\n                            </ul></li>\\n                        \\n                \\n            </ul>\\n        </div>\\n    \\n    \\n\\n            </aside>\\n\\n            <div class=\"col-sm-8 col-md-9\">\\n                \\n                <div class=\"page-header action\">\\n                    <h1>All products</h1>\\n                </div>\\n                \\n\\n                \\n\\n\\n\\n<div id=\"messages\">\\n\\n</div>\\n\\n\\n                <div id=\"promotions\">\\n                    \\n                </div>\\n\\n                \\n    <form method=\"get\" class=\"form-horizontal\">\\n        \\n        <div style=\"display:none\">\\n            \\n            \\n        </div>\\n\\n        \\n            \\n                \\n                    <strong>1000</strong> results - showing <strong>1</strong> to <strong>20</strong>.\\n                \\n            \\n            \\n        \\n    </form>\\n    \\n        <section>\\n            <div class=\"alert alert-warning\" role=\"alert\"><strong>Warning!</strong> This is a demo website for web scraping purposes. Prices and ratings here were randomly assigned and have no real meaning.</div>\\n\\n            <div>\\n                <ol class=\"row\">\\n                    \\n                        <li class=\"col-xs-6 col-sm-4 col-md-3 col-lg-3\">\\n\\n\\n\\n\\n\\n\\n    <article class=\"product_pod\">\\n        \\n            <div class=\"image_container\">\\n                \\n                    \\n                    <a href=\"catalogue/a-light-in-the-attic_1000/index.html\"><img src=\"media/cache/2c/da/2cdad67c44b002e7ead0cc35693c0e8b.jpg\" alt=\"A Light in the Attic\" class=\"thumbnail\"></a>\\n                    \\n                \\n            </div>\\n        \\n\\n        \\n            \\n                <p class=\"star-rating Three\">\\n                    <i class=\"icon-star\"></i>\\n                    <i class=\"icon-star\"></i>\\n                    <i class=\"icon-star\"></i>\\n                    <i class=\"icon-star\"></i>\\n                    <i class=\"icon-star\"></i>\\n                </p>\\n            \\n        \\n\\n        \\n            <h3><a href=\"catalogue/a-light-in-the-attic_1000/index.html\" title=\"A Light in the Attic\">A Light in the ...</a></h3>\\n        \\n\\n        \\n            <div class=\"product_price\">\\n                \\n\\n\\n\\n\\n\\n\\n    \\n        <p class=\"price_color\">Â£51.77</p>\\n    \\n\\n<p class=\"instock availability\">\\n    <i class=\"icon-ok\"></i>\\n    \\n        In stock\\n    \\n</p>\\n\\n                \\n                    \\n\\n\\n\\n\\n\\n\\n    \\n    <form>\\n        <button type=\"submit\" class=\"btn btn-primary btn-block\" data-loading-text=\"Adding...\">Add to basket</button>\\n    </form>\\n\\n\\n                \\n            </div>\\n        \\n    </article>\\n\\n</li>\\n                    \\n                        <li class=\"col-xs-6 col-sm-4 col-md-3 col-lg-3\">\\n\\n\\n\\n\\n\\n\\n    <article class=\"product_pod\">\\n        \\n            <div class=\"image_container\">\\n                \\n                    \\n                    <a href=\"catalogue/tipping-the-velvet_999/index.html\"><img src=\"media/cache/26/0c/260c6ae16bce31c8f8c95daddd9f4a1c.jpg\" alt=\"Tipping the Velvet\" class=\"thumbnail\"></a>\\n                    \\n                \\n            </div>\\n        \\n\\n        \\n            \\n                <p class=\"star-rating One\">\\n                    <i class=\"icon-star\"></i>\\n                    <i class=\"icon-star\"></i>\\n                    <i class=\"icon-star\"></i>\\n                    <i class=\"icon-star\"></i>\\n                    <i class=\"icon-star\"></i>\\n                </p>\\n            \\n        \\n\\n        \\n            <h3><a href=\"catalogue/tipping-the-velvet_999/index.html\" title=\"Tipping the Velvet\">Tipping the Velvet</a></h3>\\n        \\n\\n        \\n            <div class=\"product_price\">\\n                \\n\\n\\n\\n\\n\\n\\n    \\n        <p class=\"price_color\">Â£53.74</p>\\n    \\n\\n<p class=\"instock availability\">\\n    <i class=\"icon-ok\"></i>\\n    \\n        In stock\\n    \\n</p>\\n\\n                \\n                    \\n\\n\\n\\n\\n\\n\\n    \\n    <form>\\n        <button type=\"submit\" class=\"btn btn-primary btn-block\" data-loading-text=\"Adding...\">Add to basket</button>\\n    </form>\\n\\n\\n                \\n            </div>\\n        \\n    </article>\\n\\n</li>\\n                    \\n                        <li class=\"col-xs-6 col-sm-4 col-md-3 col-lg-3\">\\n\\n\\n\\n\\n\\n\\n    <article class=\"product_pod\">\\n        \\n            <div class=\"image_container\">\\n                \\n                    \\n                    <a href=\"catalogue/soumission_998/index.html\"><img src=\"media/cache/3e/ef/3eef99c9d9adef34639f510662022830.jpg\" alt=\"Soumission\" class=\"thumbnail\"></a>\\n                    \\n                \\n            </div>\\n        \\n\\n        \\n            \\n                <p class=\"star-rating One\">\\n                    <i class=\"icon-star\"></i>\\n                    <i class=\"icon-star\"></i>\\n                    <i class=\"icon-star\"></i>\\n                    <i class=\"icon-star\"></i>\\n                    <i class=\"icon-star\"></i>\\n                </p>\\n            \\n        \\n\\n        \\n            <h3><a href=\"catalogue/soumission_998/index.html\" title=\"Soumission\">Soumission</a></h3>\\n        \\n\\n        \\n            <div class=\"product_price\">\\n                \\n\\n\\n\\n\\n\\n\\n    \\n        <p class=\"price_color\">Â£50.10</p>\\n    \\n\\n<p class=\"instock availability\">\\n    <i class=\"icon-ok\"></i>\\n    \\n        In stock\\n    \\n</p>\\n\\n                \\n                    \\n\\n\\n\\n\\n\\n\\n    \\n    <form>\\n        <button type=\"submit\" class=\"btn btn-primary btn-block\" data-loading-text=\"Adding...\">Add to basket</button>\\n    </form>\\n\\n\\n                \\n            </div>\\n        \\n    </article>\\n\\n</li>\\n                    \\n                        <li class=\"col-xs-6 col-sm-4 col-md-3 col-lg-3\">\\n\\n\\n\\n\\n\\n\\n    <article class=\"product_pod\">\\n        \\n            <div class=\"image_container\">\\n                \\n                    \\n                    <a href=\"catalogue/sharp-objects_997/index.html\"><img src=\"media/cache/32/51/3251cf3a3412f53f339e42cac2134093.jpg\" alt=\"Sharp Objects\" class=\"thumbnail\"></a>\\n                    \\n                \\n            </div>\\n        \\n\\n        \\n            \\n                <p class=\"star-rating Four\">\\n                    <i class=\"icon-star\"></i>\\n                    <i class=\"icon-star\"></i>\\n                    <i class=\"icon-star\"></i>\\n                    <i class=\"icon-star\"></i>\\n                    <i class=\"icon-star\"></i>\\n                </p>\\n            \\n        \\n\\n        \\n            <h3><a href=\"catalogue/sharp-objects_997/index.html\" title=\"Sharp Objects\">Sharp Objects</a></h3>\\n        \\n\\n        \\n            <div class=\"product_price\">\\n                \\n\\n\\n\\n\\n\\n\\n    \\n        <p class=\"price_color\">Â£47.82</p>\\n    \\n\\n<p class=\"instock availability\">\\n    <i class=\"icon-ok\"></i>\\n    \\n        In stock\\n    \\n</p>\\n\\n                \\n                    \\n\\n\\n\\n\\n\\n\\n    \\n    <form>\\n        <button type=\"submit\" class=\"btn btn-primary btn-block\" data-loading-text=\"Adding...\">Add to basket</button>\\n    </form>\\n\\n\\n                \\n            </div>\\n        \\n    </article>\\n\\n</li>\\n                    \\n                        <li class=\"col-xs-6 col-sm-4 col-md-3 col-lg-3\">\\n\\n\\n\\n\\n\\n\\n    <article class=\"product_pod\">\\n        \\n            <div class=\"image_container\">\\n                \\n                    \\n                    <a href=\"catalogue/sapiens-a-brief-history-of-humankind_996/index.html\"><img src=\"media/cache/be/a5/bea5697f2534a2f86a3ef27b5a8c12a6.jpg\" alt=\"Sapiens: A Brief History of Humankind\" class=\"thumbnail\"></a>\\n                    \\n                \\n            </div>\\n        \\n\\n        \\n            \\n                <p class=\"star-rating Five\">\\n                    <i class=\"icon-star\"></i>\\n                    <i class=\"icon-star\"></i>\\n                    <i class=\"icon-star\"></i>\\n                    <i class=\"icon-star\"></i>\\n                    <i class=\"icon-star\"></i>\\n                </p>\\n            \\n        \\n\\n        \\n            <h3><a href=\"catalogue/sapiens-a-brief-history-of-humankind_996/index.html\" title=\"Sapiens: A Brief History of Humankind\">Sapiens: A Brief History ...</a></h3>\\n        \\n\\n        \\n            <div class=\"product_price\">\\n                \\n\\n\\n\\n\\n\\n\\n    \\n        <p class=\"price_color\">Â£54.23</p>\\n    \\n\\n<p class=\"instock availability\">\\n    <i class=\"icon-ok\"></i>\\n    \\n        In stock\\n    \\n</p>\\n\\n                \\n                    \\n\\n\\n\\n\\n\\n\\n    \\n    <form>\\n        <button type=\"submit\" class=\"btn btn-primary btn-block\" data-loading-text=\"Adding...\">Add to basket</button>\\n    </form>\\n\\n\\n                \\n            </div>\\n        \\n    </article>\\n\\n</li>\\n                    \\n                        <li class=\"col-xs-6 col-sm-4 col-md-3 col-lg-3\">\\n\\n\\n\\n\\n\\n\\n    <article class=\"product_pod\">\\n        \\n            <div class=\"image_container\">\\n                \\n                    \\n                    <a href=\"catalogue/the-requiem-red_995/index.html\"><img src=\"media/cache/68/33/68339b4c9bc034267e1da611ab3b34f8.jpg\" alt=\"The Requiem Red\" class=\"thumbnail\"></a>\\n                    \\n                \\n            </div>\\n        \\n\\n        \\n            \\n                <p class=\"star-rating One\">\\n                    <i class=\"icon-star\"></i>\\n                    <i class=\"icon-star\"></i>\\n                    <i class=\"icon-star\"></i>\\n                    <i class=\"icon-star\"></i>\\n                    <i class=\"icon-star\"></i>\\n                </p>\\n            \\n        \\n\\n        \\n            <h3><a href=\"catalogue/the-requiem-red_995/index.html\" title=\"The Requiem Red\">The Requiem Red</a></h3>\\n        \\n\\n        \\n            <div class=\"product_price\">\\n                \\n\\n\\n\\n\\n\\n\\n    \\n        <p class=\"price_color\">Â£22.65</p>\\n    \\n\\n<p class=\"instock availability\">\\n    <i class=\"icon-ok\"></i>\\n    \\n        In stock\\n    \\n</p>\\n\\n                \\n                    \\n\\n\\n\\n\\n\\n\\n    \\n    <form>\\n        <button type=\"submit\" class=\"btn btn-primary btn-block\" data-loading-text=\"Adding...\">Add to basket</button>\\n    </form>\\n\\n\\n                \\n            </div>\\n        \\n    </article>\\n\\n</li>\\n                    \\n                        <li class=\"col-xs-6 col-sm-4 col-md-3 col-lg-3\">\\n\\n\\n\\n\\n\\n\\n    <article class=\"product_pod\">\\n        \\n            <div class=\"image_container\">\\n                \\n                    \\n                    <a href=\"catalogue/the-dirty-little-secrets-of-getting-your-dream-job_994/index.html\"><img src=\"media/cache/92/27/92274a95b7c251fea59a2b8a78275ab4.jpg\" alt=\"The Dirty Little Secrets of Getting Your Dream Job\" class=\"thumbnail\"></a>\\n                    \\n                \\n            </div>\\n        \\n\\n        \\n            \\n                <p class=\"star-rating Four\">\\n                    <i class=\"icon-star\"></i>\\n                    <i class=\"icon-star\"></i>\\n                    <i class=\"icon-star\"></i>\\n                    <i class=\"icon-star\"></i>\\n                    <i class=\"icon-star\"></i>\\n                </p>\\n            \\n        \\n\\n        \\n            <h3><a href=\"catalogue/the-dirty-little-secrets-of-getting-your-dream-job_994/index.html\" title=\"The Dirty Little Secrets of Getting Your Dream Job\">The Dirty Little Secrets ...</a></h3>\\n        \\n\\n        \\n            <div class=\"product_price\">\\n                \\n\\n\\n\\n\\n\\n\\n    \\n        <p class=\"price_color\">Â£33.34</p>\\n    \\n\\n<p class=\"instock availability\">\\n    <i class=\"icon-ok\"></i>\\n    \\n        In stock\\n    \\n</p>\\n\\n                \\n                    \\n\\n\\n\\n\\n\\n\\n    \\n    <form>\\n        <button type=\"submit\" class=\"btn btn-primary btn-block\" data-loading-text=\"Adding...\">Add to basket</button>\\n    </form>\\n\\n\\n                \\n            </div>\\n        \\n    </article>\\n\\n</li>\\n                    \\n                        <li class=\"col-xs-6 col-sm-4 col-md-3 col-lg-3\">\\n\\n\\n\\n\\n\\n\\n    <article class=\"product_pod\">\\n        \\n            <div class=\"image_container\">\\n                \\n                    \\n                    <a href=\"catalogue/the-coming-woman-a-novel-based-on-the-life-of-the-infamous-feminist-victoria-woodhull_993/index.html\"><img src=\"media/cache/3d/54/3d54940e57e662c4dd1f3ff00c78cc64.jpg\" alt=\"The Coming Woman: A Novel Based on the Life of the Infamous Feminist, Victoria Woodhull\" class=\"thumbnail\"></a>\\n                    \\n                \\n            </div>\\n        \\n\\n        \\n            \\n                <p class=\"star-rating Three\">\\n                    <i class=\"icon-star\"></i>\\n                    <i class=\"icon-star\"></i>\\n                    <i class=\"icon-star\"></i>\\n                    <i class=\"icon-star\"></i>\\n                    <i class=\"icon-star\"></i>\\n                </p>\\n            \\n        \\n\\n        \\n            <h3><a href=\"catalogue/the-coming-woman-a-novel-based-on-the-life-of-the-infamous-feminist-victoria-woodhull_993/index.html\" title=\"The Coming Woman: A Novel Based on the Life of the Infamous Feminist, Victoria Woodhull\">The Coming Woman: A ...</a></h3>\\n        \\n\\n        \\n            <div class=\"product_price\">\\n                \\n\\n\\n\\n\\n\\n\\n    \\n        <p class=\"price_color\">Â£17.93</p>\\n    \\n\\n<p class=\"instock availability\">\\n    <i class=\"icon-ok\"></i>\\n    \\n        In stock\\n    \\n</p>\\n\\n                \\n                    \\n\\n\\n\\n\\n\\n\\n    \\n    <form>\\n        <button type=\"submit\" class=\"btn btn-primary btn-block\" data-loading-text=\"Adding...\">Add to basket</button>\\n    </form>\\n\\n\\n                \\n            </div>\\n        \\n    </article>\\n\\n</li>\\n                    \\n                        <li class=\"col-xs-6 col-sm-4 col-md-3 col-lg-3\">\\n\\n\\n\\n\\n\\n\\n    <article class=\"product_pod\">\\n        \\n            <div class=\"image_container\">\\n                \\n                    \\n                    <a href=\"catalogue/the-boys-in-the-boat-nine-americans-and-their-epic-quest-for-gold-at-the-1936-berlin-olympics_992/index.html\"><img src=\"media/cache/66/88/66883b91f6804b2323c8369331cb7dd1.jpg\" alt=\"The Boys in the Boat: Nine Americans and Their Epic Quest for Gold at the 1936 Berlin Olympics\" class=\"thumbnail\"></a>\\n                    \\n                \\n            </div>\\n        \\n\\n        \\n            \\n                <p class=\"star-rating Four\">\\n                    <i class=\"icon-star\"></i>\\n                    <i class=\"icon-star\"></i>\\n                    <i class=\"icon-star\"></i>\\n                    <i class=\"icon-star\"></i>\\n                    <i class=\"icon-star\"></i>\\n                </p>\\n            \\n        \\n\\n        \\n            <h3><a href=\"catalogue/the-boys-in-the-boat-nine-americans-and-their-epic-quest-for-gold-at-the-1936-berlin-olympics_992/index.html\" title=\"The Boys in the Boat: Nine Americans and Their Epic Quest for Gold at the 1936 Berlin Olympics\">The Boys in the ...</a></h3>\\n        \\n\\n        \\n            <div class=\"product_price\">\\n                \\n\\n\\n\\n\\n\\n\\n    \\n        <p class=\"price_color\">Â£22.60</p>\\n    \\n\\n<p class=\"instock availability\">\\n    <i class=\"icon-ok\"></i>\\n    \\n        In stock\\n    \\n</p>\\n\\n                \\n                    \\n\\n\\n\\n\\n\\n\\n    \\n    <form>\\n        <button type=\"submit\" class=\"btn btn-primary btn-block\" data-loading-text=\"Adding...\">Add to basket</button>\\n    </form>\\n\\n\\n                \\n            </div>\\n        \\n    </article>\\n\\n</li>\\n                    \\n                        <li class=\"col-xs-6 col-sm-4 col-md-3 col-lg-3\">\\n\\n\\n\\n\\n\\n\\n    <article class=\"product_pod\">\\n        \\n            <div class=\"image_container\">\\n                \\n                    \\n                    <a href=\"catalogue/the-black-maria_991/index.html\"><img src=\"media/cache/58/46/5846057e28022268153beff6d352b06c.jpg\" alt=\"The Black Maria\" class=\"thumbnail\"></a>\\n                    \\n                \\n            </div>\\n        \\n\\n        \\n            \\n                <p class=\"star-rating One\">\\n                    <i class=\"icon-star\"></i>\\n                    <i class=\"icon-star\"></i>\\n                    <i class=\"icon-star\"></i>\\n                    <i class=\"icon-star\"></i>\\n                    <i class=\"icon-star\"></i>\\n                </p>\\n            \\n        \\n\\n        \\n            <h3><a href=\"catalogue/the-black-maria_991/index.html\" title=\"The Black Maria\">The Black Maria</a></h3>\\n        \\n\\n        \\n            <div class=\"product_price\">\\n                \\n\\n\\n\\n\\n\\n\\n    \\n        <p class=\"price_color\">Â£52.15</p>\\n    \\n\\n<p class=\"instock availability\">\\n    <i class=\"icon-ok\"></i>\\n    \\n        In stock\\n    \\n</p>\\n\\n                \\n                    \\n\\n\\n\\n\\n\\n\\n    \\n    <form>\\n        <button type=\"submit\" class=\"btn btn-primary btn-block\" data-loading-text=\"Adding...\">Add to basket</button>\\n    </form>\\n\\n\\n                \\n            </div>\\n        \\n    </article>\\n\\n</li>\\n                    \\n                        <li class=\"col-xs-6 col-sm-4 col-md-3 col-lg-3\">\\n\\n\\n\\n\\n\\n\\n    <article class=\"product_pod\">\\n        \\n            <div class=\"image_container\">\\n                \\n                    \\n                    <a href=\"catalogue/starving-hearts-triangular-trade-trilogy-1_990/index.html\"><img src=\"media/cache/be/f4/bef44da28c98f905a3ebec0b87be8530.jpg\" alt=\"Starving Hearts (Triangular Trade Trilogy, #1)\" class=\"thumbnail\"></a>\\n                    \\n                \\n            </div>\\n        \\n\\n        \\n            \\n                <p class=\"star-rating Two\">\\n                    <i class=\"icon-star\"></i>\\n                    <i class=\"icon-star\"></i>\\n                    <i class=\"icon-star\"></i>\\n                    <i class=\"icon-star\"></i>\\n                    <i class=\"icon-star\"></i>\\n                </p>\\n            \\n        \\n\\n        \\n            <h3><a href=\"catalogue/starving-hearts-triangular-trade-trilogy-1_990/index.html\" title=\"Starving Hearts (Triangular Trade Trilogy, #1)\">Starving Hearts (Triangular Trade ...</a></h3>\\n        \\n\\n        \\n            <div class=\"product_price\">\\n                \\n\\n\\n\\n\\n\\n\\n    \\n        <p class=\"price_color\">Â£13.99</p>\\n    \\n\\n<p class=\"instock availability\">\\n    <i class=\"icon-ok\"></i>\\n    \\n        In stock\\n    \\n</p>\\n\\n                \\n                    \\n\\n\\n\\n\\n\\n\\n    \\n    <form>\\n        <button type=\"submit\" class=\"btn btn-primary btn-block\" data-loading-text=\"Adding...\">Add to basket</button>\\n    </form>\\n\\n\\n                \\n            </div>\\n        \\n    </article>\\n\\n</li>\\n                    \\n                        <li class=\"col-xs-6 col-sm-4 col-md-3 col-lg-3\">\\n\\n\\n\\n\\n\\n\\n    <article class=\"product_pod\">\\n        \\n            <div class=\"image_container\">\\n                \\n                    \\n                    <a href=\"catalogue/shakespeares-sonnets_989/index.html\"><img src=\"media/cache/10/48/1048f63d3b5061cd2f424d20b3f9b666.jpg\" alt=\"Shakespeare&#39;s Sonnets\" class=\"thumbnail\"></a>\\n                    \\n                \\n            </div>\\n        \\n\\n        \\n            \\n                <p class=\"star-rating Four\">\\n                    <i class=\"icon-star\"></i>\\n                    <i class=\"icon-star\"></i>\\n                    <i class=\"icon-star\"></i>\\n                    <i class=\"icon-star\"></i>\\n                    <i class=\"icon-star\"></i>\\n                </p>\\n            \\n        \\n\\n        \\n            <h3><a href=\"catalogue/shakespeares-sonnets_989/index.html\" title=\"Shakespeare&#39;s Sonnets\">Shakespeare&#39;s Sonnets</a></h3>\\n        \\n\\n        \\n            <div class=\"product_price\">\\n                \\n\\n\\n\\n\\n\\n\\n    \\n        <p class=\"price_color\">Â£20.66</p>\\n    \\n\\n<p class=\"instock availability\">\\n    <i class=\"icon-ok\"></i>\\n    \\n        In stock\\n    \\n</p>\\n\\n                \\n                    \\n\\n\\n\\n\\n\\n\\n    \\n    <form>\\n        <button type=\"submit\" class=\"btn btn-primary btn-block\" data-loading-text=\"Adding...\">Add to basket</button>\\n    </form>\\n\\n\\n                \\n            </div>\\n        \\n    </article>\\n\\n</li>\\n                    \\n                        <li class=\"col-xs-6 col-sm-4 col-md-3 col-lg-3\">\\n\\n\\n\\n\\n\\n\\n    <article class=\"product_pod\">\\n        \\n            <div class=\"image_container\">\\n                \\n                    \\n                    <a href=\"catalogue/set-me-free_988/index.html\"><img src=\"media/cache/5b/88/5b88c52633f53cacf162c15f4f823153.jpg\" alt=\"Set Me Free\" class=\"thumbnail\"></a>\\n                    \\n                \\n            </div>\\n        \\n\\n        \\n            \\n                <p class=\"star-rating Five\">\\n                    <i class=\"icon-star\"></i>\\n                    <i class=\"icon-star\"></i>\\n                    <i class=\"icon-star\"></i>\\n                    <i class=\"icon-star\"></i>\\n                    <i class=\"icon-star\"></i>\\n                </p>\\n            \\n        \\n\\n        \\n            <h3><a href=\"catalogue/set-me-free_988/index.html\" title=\"Set Me Free\">Set Me Free</a></h3>\\n        \\n\\n        \\n            <div class=\"product_price\">\\n                \\n\\n\\n\\n\\n\\n\\n    \\n        <p class=\"price_color\">Â£17.46</p>\\n    \\n\\n<p class=\"instock availability\">\\n    <i class=\"icon-ok\"></i>\\n    \\n        In stock\\n    \\n</p>\\n\\n                \\n                    \\n\\n\\n\\n\\n\\n\\n    \\n    <form>\\n        <button type=\"submit\" class=\"btn btn-primary btn-block\" data-loading-text=\"Adding...\">Add to basket</button>\\n    </form>\\n\\n\\n                \\n            </div>\\n        \\n    </article>\\n\\n</li>\\n                    \\n                        <li class=\"col-xs-6 col-sm-4 col-md-3 col-lg-3\">\\n\\n\\n\\n\\n\\n\\n    <article class=\"product_pod\">\\n        \\n            <div class=\"image_container\">\\n                \\n                    \\n                    <a href=\"catalogue/scott-pilgrims-precious-little-life-scott-pilgrim-1_987/index.html\"><img src=\"media/cache/94/b1/94b1b8b244bce9677c2f29ccc890d4d2.jpg\" alt=\"Scott Pilgrim&#39;s Precious Little Life (Scott Pilgrim #1)\" class=\"thumbnail\"></a>\\n                    \\n                \\n            </div>\\n        \\n\\n        \\n            \\n                <p class=\"star-rating Five\">\\n                    <i class=\"icon-star\"></i>\\n                    <i class=\"icon-star\"></i>\\n                    <i class=\"icon-star\"></i>\\n                    <i class=\"icon-star\"></i>\\n                    <i class=\"icon-star\"></i>\\n                </p>\\n            \\n        \\n\\n        \\n            <h3><a href=\"catalogue/scott-pilgrims-precious-little-life-scott-pilgrim-1_987/index.html\" title=\"Scott Pilgrim&#39;s Precious Little Life (Scott Pilgrim #1)\">Scott Pilgrim&#39;s Precious Little ...</a></h3>\\n        \\n\\n        \\n            <div class=\"product_price\">\\n                \\n\\n\\n\\n\\n\\n\\n    \\n        <p class=\"price_color\">Â£52.29</p>\\n    \\n\\n<p class=\"instock availability\">\\n    <i class=\"icon-ok\"></i>\\n    \\n        In stock\\n    \\n</p>\\n\\n                \\n                    \\n\\n\\n\\n\\n\\n\\n    \\n    <form>\\n        <button type=\"submit\" class=\"btn btn-primary btn-block\" data-loading-text=\"Adding...\">Add to basket</button>\\n    </form>\\n\\n\\n                \\n            </div>\\n        \\n    </article>\\n\\n</li>\\n                    \\n                        <li class=\"col-xs-6 col-sm-4 col-md-3 col-lg-3\">\\n\\n\\n\\n\\n\\n\\n    <article class=\"product_pod\">\\n        \\n            <div class=\"image_container\">\\n                \\n                    \\n                    <a href=\"catalogue/rip-it-up-and-start-again_986/index.html\"><img src=\"media/cache/81/c4/81c4a973364e17d01f217e1188253d5e.jpg\" alt=\"Rip it Up and Start Again\" class=\"thumbnail\"></a>\\n                    \\n                \\n            </div>\\n        \\n\\n        \\n            \\n                <p class=\"star-rating Five\">\\n                    <i class=\"icon-star\"></i>\\n                    <i class=\"icon-star\"></i>\\n                    <i class=\"icon-star\"></i>\\n                    <i class=\"icon-star\"></i>\\n                    <i class=\"icon-star\"></i>\\n                </p>\\n            \\n        \\n\\n        \\n            <h3><a href=\"catalogue/rip-it-up-and-start-again_986/index.html\" title=\"Rip it Up and Start Again\">Rip it Up and ...</a></h3>\\n        \\n\\n        \\n            <div class=\"product_price\">\\n                \\n\\n\\n\\n\\n\\n\\n    \\n        <p class=\"price_color\">Â£35.02</p>\\n    \\n\\n<p class=\"instock availability\">\\n    <i class=\"icon-ok\"></i>\\n    \\n        In stock\\n    \\n</p>\\n\\n                \\n                    \\n\\n\\n\\n\\n\\n\\n    \\n    <form>\\n        <button type=\"submit\" class=\"btn btn-primary btn-block\" data-loading-text=\"Adding...\">Add to basket</button>\\n    </form>\\n\\n\\n                \\n            </div>\\n        \\n    </article>\\n\\n</li>\\n                    \\n                        <li class=\"col-xs-6 col-sm-4 col-md-3 col-lg-3\">\\n\\n\\n\\n\\n\\n\\n    <article class=\"product_pod\">\\n        \\n            <div class=\"image_container\">\\n                \\n                    \\n                    <a href=\"catalogue/our-band-could-be-your-life-scenes-from-the-american-indie-underground-1981-1991_985/index.html\"><img src=\"media/cache/54/60/54607fe8945897cdcced0044103b10b6.jpg\" alt=\"Our Band Could Be Your Life: Scenes from the American Indie Underground, 1981-1991\" class=\"thumbnail\"></a>\\n                    \\n                \\n            </div>\\n        \\n\\n        \\n            \\n                <p class=\"star-rating Three\">\\n                    <i class=\"icon-star\"></i>\\n                    <i class=\"icon-star\"></i>\\n                    <i class=\"icon-star\"></i>\\n                    <i class=\"icon-star\"></i>\\n                    <i class=\"icon-star\"></i>\\n                </p>\\n            \\n        \\n\\n        \\n            <h3><a href=\"catalogue/our-band-could-be-your-life-scenes-from-the-american-indie-underground-1981-1991_985/index.html\" title=\"Our Band Could Be Your Life: Scenes from the American Indie Underground, 1981-1991\">Our Band Could Be ...</a></h3>\\n        \\n\\n        \\n            <div class=\"product_price\">\\n                \\n\\n\\n\\n\\n\\n\\n    \\n        <p class=\"price_color\">Â£57.25</p>\\n    \\n\\n<p class=\"instock availability\">\\n    <i class=\"icon-ok\"></i>\\n    \\n        In stock\\n    \\n</p>\\n\\n                \\n                    \\n\\n\\n\\n\\n\\n\\n    \\n    <form>\\n        <button type=\"submit\" class=\"btn btn-primary btn-block\" data-loading-text=\"Adding...\">Add to basket</button>\\n    </form>\\n\\n\\n                \\n            </div>\\n        \\n    </article>\\n\\n</li>\\n                    \\n                        <li class=\"col-xs-6 col-sm-4 col-md-3 col-lg-3\">\\n\\n\\n\\n\\n\\n\\n    <article class=\"product_pod\">\\n        \\n            <div class=\"image_container\">\\n                \\n                    \\n                    <a href=\"catalogue/olio_984/index.html\"><img src=\"media/cache/55/33/553310a7162dfbc2c6d19a84da0df9e1.jpg\" alt=\"Olio\" class=\"thumbnail\"></a>\\n                    \\n                \\n            </div>\\n        \\n\\n        \\n            \\n                <p class=\"star-rating One\">\\n                    <i class=\"icon-star\"></i>\\n                    <i class=\"icon-star\"></i>\\n                    <i class=\"icon-star\"></i>\\n                    <i class=\"icon-star\"></i>\\n                    <i class=\"icon-star\"></i>\\n                </p>\\n            \\n        \\n\\n        \\n            <h3><a href=\"catalogue/olio_984/index.html\" title=\"Olio\">Olio</a></h3>\\n        \\n\\n        \\n            <div class=\"product_price\">\\n                \\n\\n\\n\\n\\n\\n\\n    \\n        <p class=\"price_color\">Â£23.88</p>\\n    \\n\\n<p class=\"instock availability\">\\n    <i class=\"icon-ok\"></i>\\n    \\n        In stock\\n    \\n</p>\\n\\n                \\n                    \\n\\n\\n\\n\\n\\n\\n    \\n    <form>\\n        <button type=\"submit\" class=\"btn btn-primary btn-block\" data-loading-text=\"Adding...\">Add to basket</button>\\n    </form>\\n\\n\\n                \\n            </div>\\n        \\n    </article>\\n\\n</li>\\n                    \\n                        <li class=\"col-xs-6 col-sm-4 col-md-3 col-lg-3\">\\n\\n\\n\\n\\n\\n\\n    <article class=\"product_pod\">\\n        \\n            <div class=\"image_container\">\\n                \\n                    \\n                    <a href=\"catalogue/mesaerion-the-best-science-fiction-stories-1800-1849_983/index.html\"><img src=\"media/cache/09/a3/09a3aef48557576e1a85ba7efea8ecb7.jpg\" alt=\"Mesaerion: The Best Science Fiction Stories 1800-1849\" class=\"thumbnail\"></a>\\n                    \\n                \\n            </div>\\n        \\n\\n        \\n            \\n                <p class=\"star-rating One\">\\n                    <i class=\"icon-star\"></i>\\n                    <i class=\"icon-star\"></i>\\n                    <i class=\"icon-star\"></i>\\n                    <i class=\"icon-star\"></i>\\n                    <i class=\"icon-star\"></i>\\n                </p>\\n            \\n        \\n\\n        \\n            <h3><a href=\"catalogue/mesaerion-the-best-science-fiction-stories-1800-1849_983/index.html\" title=\"Mesaerion: The Best Science Fiction Stories 1800-1849\">Mesaerion: The Best Science ...</a></h3>\\n        \\n\\n        \\n            <div class=\"product_price\">\\n                \\n\\n\\n\\n\\n\\n\\n    \\n        <p class=\"price_color\">Â£37.59</p>\\n    \\n\\n<p class=\"instock availability\">\\n    <i class=\"icon-ok\"></i>\\n    \\n        In stock\\n    \\n</p>\\n\\n                \\n                    \\n\\n\\n\\n\\n\\n\\n    \\n    <form>\\n        <button type=\"submit\" class=\"btn btn-primary btn-block\" data-loading-text=\"Adding...\">Add to basket</button>\\n    </form>\\n\\n\\n                \\n            </div>\\n        \\n    </article>\\n\\n</li>\\n                    \\n                        <li class=\"col-xs-6 col-sm-4 col-md-3 col-lg-3\">\\n\\n\\n\\n\\n\\n\\n    <article class=\"product_pod\">\\n        \\n            <div class=\"image_container\">\\n                \\n                    \\n                    <a href=\"catalogue/libertarianism-for-beginners_982/index.html\"><img src=\"media/cache/0b/bc/0bbcd0a6f4bcd81ccb1049a52736406e.jpg\" alt=\"Libertarianism for Beginners\" class=\"thumbnail\"></a>\\n                    \\n                \\n            </div>\\n        \\n\\n        \\n            \\n                <p class=\"star-rating Two\">\\n                    <i class=\"icon-star\"></i>\\n                    <i class=\"icon-star\"></i>\\n                    <i class=\"icon-star\"></i>\\n                    <i class=\"icon-star\"></i>\\n                    <i class=\"icon-star\"></i>\\n                </p>\\n            \\n        \\n\\n        \\n            <h3><a href=\"catalogue/libertarianism-for-beginners_982/index.html\" title=\"Libertarianism for Beginners\">Libertarianism for Beginners</a></h3>\\n        \\n\\n        \\n            <div class=\"product_price\">\\n                \\n\\n\\n\\n\\n\\n\\n    \\n        <p class=\"price_color\">Â£51.33</p>\\n    \\n\\n<p class=\"instock availability\">\\n    <i class=\"icon-ok\"></i>\\n    \\n        In stock\\n    \\n</p>\\n\\n                \\n                    \\n\\n\\n\\n\\n\\n\\n    \\n    <form>\\n        <button type=\"submit\" class=\"btn btn-primary btn-block\" data-loading-text=\"Adding...\">Add to basket</button>\\n    </form>\\n\\n\\n                \\n            </div>\\n        \\n    </article>\\n\\n</li>\\n                    \\n                        <li class=\"col-xs-6 col-sm-4 col-md-3 col-lg-3\">\\n\\n\\n\\n\\n\\n\\n    <article class=\"product_pod\">\\n        \\n            <div class=\"image_container\">\\n                \\n                    \\n                    <a href=\"catalogue/its-only-the-himalayas_981/index.html\"><img src=\"media/cache/27/a5/27a53d0bb95bdd88288eaf66c9230d7e.jpg\" alt=\"It&#39;s Only the Himalayas\" class=\"thumbnail\"></a>\\n                    \\n                \\n            </div>\\n        \\n\\n        \\n            \\n                <p class=\"star-rating Two\">\\n                    <i class=\"icon-star\"></i>\\n                    <i class=\"icon-star\"></i>\\n                    <i class=\"icon-star\"></i>\\n                    <i class=\"icon-star\"></i>\\n                    <i class=\"icon-star\"></i>\\n                </p>\\n            \\n        \\n\\n        \\n            <h3><a href=\"catalogue/its-only-the-himalayas_981/index.html\" title=\"It&#39;s Only the Himalayas\">It&#39;s Only the Himalayas</a></h3>\\n        \\n\\n        \\n            <div class=\"product_price\">\\n                \\n\\n\\n\\n\\n\\n\\n    \\n        <p class=\"price_color\">Â£45.17</p>\\n    \\n\\n<p class=\"instock availability\">\\n    <i class=\"icon-ok\"></i>\\n    \\n        In stock\\n    \\n</p>\\n\\n                \\n                    \\n\\n\\n\\n\\n\\n\\n    \\n    <form>\\n        <button type=\"submit\" class=\"btn btn-primary btn-block\" data-loading-text=\"Adding...\">Add to basket</button>\\n    </form>\\n\\n\\n                \\n            </div>\\n        \\n    </article>\\n\\n</li>\\n                    \\n                </ol>\\n                \\n\\n\\n\\n    <div>\\n        <ul class=\"pager\">\\n            \\n            <li class=\"current\">\\n            \\n                Page 1 of 50\\n            \\n            </li>\\n            \\n                <li class=\"next\"><a href=\"catalogue/page-2.html\">next</a></li>\\n            \\n        </ul>\\n    </div>\\n\\n\\n            </div>\\n        </section>\\n    \\n\\n\\n            </div>\\n\\n        </div><!-- /row -->\\n    </div><!-- /page_inner -->\\n</div><!-- /container-fluid -->\\n\\n\\n    \\n<footer class=\"footer container-fluid\">\\n    \\n        \\n    \\n</footer>\\n\\n\\n        \\n        \\n  \\n            <!-- jQuery -->\\n            <script src=\"http://ajax.googleapis.com/ajax/libs/jquery/1.9.1/jquery.min.js\"></script>\\n            <script>window.jQuery || document.write(\\'<script src=\"static/oscar/js/jquery/jquery-1.9.1.min.js\"><\\\\/script>\\')</script>\\n        \\n  \\n\\n\\n        \\n        \\n    \\n        \\n    <!-- Twitter Bootstrap -->\\n    <script type=\"text/javascript\" src=\"static/oscar/js/bootstrap3/bootstrap.min.js\"></script>\\n    <!-- Oscar -->\\n    <script src=\"static/oscar/js/oscar/ui.js\" type=\"text/javascript\" charset=\"utf-8\"></script>\\n\\n    <script src=\"static/oscar/js/bootstrap-datetimepicker/bootstrap-datetimepicker.js\" type=\"text/javascript\" charset=\"utf-8\"></script>\\n    <script src=\"static/oscar/js/bootstrap-datetimepicker/locales/bootstrap-datetimepicker.all.js\" type=\"text/javascript\" charset=\"utf-8\"></script>\\n\\n\\n        \\n        \\n    \\n\\n    \\n\\n\\n        \\n        <script type=\"text/javascript\">\\n            $(function() {\\n                \\n    \\n    \\n    oscar.init();\\n\\n    oscar.search.init();\\n\\n            });\\n        </script>\\n\\n        \\n        <!-- Version: N/A -->\\n        \\n    </body>\\n</html>\\n'"
      ]
     },
     "execution_count": 9,
     "metadata": {},
     "output_type": "execute_result"
    }
   ],
   "source": [
    "# we can print out the content of the page using \n",
    "r.text"
   ]
  },
  {
   "cell_type": "markdown",
   "id": "84c9a38c",
   "metadata": {},
   "source": [
    "* As clearly shown above, the content of the site is not easily readable in the form above. And this is we another library called BeautifulSoup(BS) comes into action. BS is a python librray that is used for pulling out data from junks of HTML and XML files. With the help of parser it can navigate and search such file in different manners to retrieve desired information.\n",
    "* We import BeautifulSoup from bs4"
   ]
  },
  {
   "cell_type": "code",
   "execution_count": 10,
   "id": "0e260665",
   "metadata": {},
   "outputs": [],
   "source": [
    "# To make sense of the HTML file above, lets create a beautifulsoup object.\n",
    "# Pass in the url content and a parser as its argument.\n",
    "soup= BeautifulSoup(r.text, 'html.parser')"
   ]
  },
  {
   "cell_type": "code",
   "execution_count": 13,
   "id": "dbaded00",
   "metadata": {},
   "outputs": [
    {
     "data": {
      "text/plain": [
       "bs4.BeautifulSoup"
      ]
     },
     "execution_count": 13,
     "metadata": {},
     "output_type": "execute_result"
    }
   ],
   "source": [
    "# Let's check for the type of soup\n",
    "type(soup)"
   ]
  },
  {
   "cell_type": "markdown",
   "id": "e28f27f4",
   "metadata": {},
   "source": [
    " Good!, now we have a soup object. One important thing to keep in mind is that beautiful soup provides a number of method to search/navigate the parse tree. Interestingly, they all take similar argument, but the most commonly used method are find and find_all. Find() and Find_all() are the two most common beautifulsoup methods, they act as filter and help to nagivate through the HTML/XML file by going upward or downward. They accept a number of argument. You will find easy to follow examples by visiting the documentation of beautifulsoup. Using find() method return only the first instance of the search item, will the later will return all the instance of the specified element as a list.\n",
    " \n",
    "Using find() will only the return the first instance of the tag 'ol',which is what we want, as that tag contain all the different books on each pages. Oh, before we go on. You need to know how to use the developer tool or inspect element on your browser. To display the code behind a web page, firstly, you need to load the page , then right click on the any section of the page and select the inspect element. This will reveal the HMTL make-up of that site either on the same page or new window. At the top left of the page is a tool, which you can click, Once you click the tool, it will reveal the code of any part of the site you hover on."
   ]
  },
  {
   "cell_type": "code",
   "execution_count": 14,
   "id": "a30a6fc0",
   "metadata": {},
   "outputs": [],
   "source": [
    "allbooks= soup.find('ol')\n",
    "\n"
   ]
  },
  {
   "cell_type": "markdown",
   "id": "2cefcf5d",
   "metadata": {},
   "source": [
    "Now, lets go inside the 'ol' tag and find all instances of the 'article' tag.We are going to save this in a variable called artcilces, which will contain all the article present in a given Url. We are going to do that using the find-all() method of beautifulSoup.For this case, we want to find all the tag 'article' that belong to the class 'product_pod'"
   ]
  },
  {
   "cell_type": "code",
   "execution_count": 18,
   "id": "62c7555d",
   "metadata": {},
   "outputs": [],
   "source": [
    "articles= allbooks.find_all('article', class_='product_pod')"
   ]
  },
  {
   "cell_type": "code",
   "execution_count": 16,
   "id": "7db18d0d",
   "metadata": {},
   "outputs": [
    {
     "data": {
      "text/plain": [
       "20"
      ]
     },
     "execution_count": 16,
     "metadata": {},
     "output_type": "execute_result"
    }
   ],
   "source": [
    "len(articles)"
   ]
  },
  {
   "cell_type": "markdown",
   "id": "65224c26",
   "metadata": {},
   "source": [
    "The length of the articles reveal that there are 20 articles( a section containing details of each books). Let's inspect the first book in our variable articles. I am going to display it in a pretty fashion using beautifulsoup prettify() method. This will enable the HTML code responsible for that section to be displayed in a each to read format. This will also making searchinhg for a particular element seemless. This beacuse we can easily vied tag which are siblings or even determing the next element of another tag. Searching and Navigating the parse tree have been simplified in the beautifulsoup documentation."
   ]
  },
  {
   "cell_type": "code",
   "execution_count": 28,
   "id": "99641cd2",
   "metadata": {},
   "outputs": [],
   "source": [
    "a1= articles[0]"
   ]
  },
  {
   "cell_type": "code",
   "execution_count": 29,
   "id": "fbb09039",
   "metadata": {},
   "outputs": [
    {
     "name": "stdout",
     "output_type": "stream",
     "text": [
      "<article class=\"product_pod\">\n",
      " <div class=\"image_container\">\n",
      "  <a href=\"catalogue/a-light-in-the-attic_1000/index.html\">\n",
      "   <img alt=\"A Light in the Attic\" class=\"thumbnail\" src=\"media/cache/2c/da/2cdad67c44b002e7ead0cc35693c0e8b.jpg\"/>\n",
      "  </a>\n",
      " </div>\n",
      " <p class=\"star-rating Three\">\n",
      "  <i class=\"icon-star\">\n",
      "  </i>\n",
      "  <i class=\"icon-star\">\n",
      "  </i>\n",
      "  <i class=\"icon-star\">\n",
      "  </i>\n",
      "  <i class=\"icon-star\">\n",
      "  </i>\n",
      "  <i class=\"icon-star\">\n",
      "  </i>\n",
      " </p>\n",
      " <h3>\n",
      "  <a href=\"catalogue/a-light-in-the-attic_1000/index.html\" title=\"A Light in the Attic\">\n",
      "   A Light in the ...\n",
      "  </a>\n",
      " </h3>\n",
      " <div class=\"product_price\">\n",
      "  <p class=\"price_color\">\n",
      "   Â£51.77\n",
      "  </p>\n",
      "  <p class=\"instock availability\">\n",
      "   <i class=\"icon-ok\">\n",
      "   </i>\n",
      "   In stock\n",
      "  </p>\n",
      "  <form>\n",
      "   <button class=\"btn btn-primary btn-block\" data-loading-text=\"Adding...\" type=\"submit\">\n",
      "    Add to basket\n",
      "   </button>\n",
      "  </form>\n",
      " </div>\n",
      "</article>\n",
      "\n"
     ]
    }
   ],
   "source": [
    "print(a1.prettify())"
   ]
  },
  {
   "cell_type": "markdown",
   "id": "607295c8",
   "metadata": {},
   "source": [
    "Each tag has one or more attributes, which makes locating the tag element very easy. For instance the first tag in the prettified format above is 'article' and it has just a single attribute class called \"product_pod\" while 'button' several attributes such as class, data-loading-text and type."
   ]
  },
  {
   "cell_type": "code",
   "execution_count": 85,
   "id": "94af57f0",
   "metadata": {},
   "outputs": [],
   "source": [
    "Title=[]\n",
    "Price=[]\n",
    "Rating=[]\n",
    "Link=[]\n",
    "\n",
    "for book in articles:\n",
    "    title = book.a.next_element['alt']\n",
    "    price= float(book.find('p', class_='price_color').text[2:])\n",
    "    rating= book.find('p', class_=\"star-rating\").attrs['class'][1]\n",
    "    url= 'http://books.toscrape.com/'\n",
    "    link= url + book.select_one(\".image_container a\" )['href']\n",
    "    Title.append(title)\n",
    "    Price.append(price)\n",
    "    Rating.append(rating)\n",
    "    Link.append(link)\n",
    "    \n",
    "df = pd.DataFrame({\n",
    "    'Title':Title, 'Price':Price, 'Rating':Rating, 'Link':Link\n",
    "})\n",
    "    "
   ]
  },
  {
   "cell_type": "markdown",
   "id": "342b22c3",
   "metadata": {},
   "source": [
    "#### From the cell Above:\n",
    "* Each article in our variable articles contains a number of information describing the book.\n",
    "* Here, we will only be selecting just four features of each books; title of the book, price, its rating and link to the book. So, I created an empty list of each of the required variables, then loop through the entire article to get each datas.\n",
    "* Navigating the tree involve encoutering several strings and tag, you decide to find an element upward,downward or even sideways. \n",
    "------------------------------------------------------------------------------------------------------------ \n",
    "* To find the title; we find the first 'a' and obtain the value of the 'alt' attribute.\n",
    "* To get the price of each book, we select 'p' tag that belong only to the class price-color, this will produce the tag and string. Therefore, we need to apply .text to get only the string out, slicing from index 2 will help us remove the pound sign in the price. Lastly, the price was passed into a float method to enable us carry out numerical computation on the values later. Thsi can also be done during data cleaning.\n",
    "* Other methods as conatined in the documentation were employed to aslo get the rating and link to each book. Finally, the extracted data were stored in a dataframe"
   ]
  },
  {
   "cell_type": "code",
   "execution_count": 86,
   "id": "77859260",
   "metadata": {},
   "outputs": [
    {
     "data": {
      "text/plain": [
       "(20, 4)"
      ]
     },
     "execution_count": 86,
     "metadata": {},
     "output_type": "execute_result"
    }
   ],
   "source": [
    "df.shape"
   ]
  },
  {
   "cell_type": "code",
   "execution_count": 88,
   "id": "4799ad21",
   "metadata": {},
   "outputs": [
    {
     "data": {
      "text/html": [
       "<div>\n",
       "<style scoped>\n",
       "    .dataframe tbody tr th:only-of-type {\n",
       "        vertical-align: middle;\n",
       "    }\n",
       "\n",
       "    .dataframe tbody tr th {\n",
       "        vertical-align: top;\n",
       "    }\n",
       "\n",
       "    .dataframe thead th {\n",
       "        text-align: right;\n",
       "    }\n",
       "</style>\n",
       "<table border=\"1\" class=\"dataframe\">\n",
       "  <thead>\n",
       "    <tr style=\"text-align: right;\">\n",
       "      <th></th>\n",
       "      <th>Title</th>\n",
       "      <th>Price</th>\n",
       "      <th>Rating</th>\n",
       "      <th>Link</th>\n",
       "    </tr>\n",
       "  </thead>\n",
       "  <tbody>\n",
       "    <tr>\n",
       "      <th>17</th>\n",
       "      <td>A Spy's Devotion (The Regency Spies of London #1)</td>\n",
       "      <td>16.97</td>\n",
       "      <td>Five</td>\n",
       "      <td>http://books.toscrape.com/../../a-spys-devotio...</td>\n",
       "    </tr>\n",
       "    <tr>\n",
       "      <th>12</th>\n",
       "      <td>Blood Defense (Samantha Brinkman #1)</td>\n",
       "      <td>20.30</td>\n",
       "      <td>Three</td>\n",
       "      <td>http://books.toscrape.com/../../blood-defense-...</td>\n",
       "    </tr>\n",
       "    <tr>\n",
       "      <th>7</th>\n",
       "      <td>Charlie and the Chocolate Factory (Charlie Buc...</td>\n",
       "      <td>22.85</td>\n",
       "      <td>Three</td>\n",
       "      <td>http://books.toscrape.com/../../charlie-and-th...</td>\n",
       "    </tr>\n",
       "    <tr>\n",
       "      <th>19</th>\n",
       "      <td>1,000 Places to See Before You Die</td>\n",
       "      <td>26.08</td>\n",
       "      <td>Five</td>\n",
       "      <td>http://books.toscrape.com/../../1000-places-to...</td>\n",
       "    </tr>\n",
       "    <tr>\n",
       "      <th>6</th>\n",
       "      <td>Choosing Our Religion: The Spiritual Lives of ...</td>\n",
       "      <td>28.42</td>\n",
       "      <td>Four</td>\n",
       "      <td>http://books.toscrape.com/../../choosing-our-r...</td>\n",
       "    </tr>\n",
       "    <tr>\n",
       "      <th>1</th>\n",
       "      <td>Forever Rockers (The Rocker #12)</td>\n",
       "      <td>28.80</td>\n",
       "      <td>Three</td>\n",
       "      <td>http://books.toscrape.com/../../forever-rocker...</td>\n",
       "    </tr>\n",
       "    <tr>\n",
       "      <th>10</th>\n",
       "      <td>Bridget Jones's Diary (Bridget Jones #1)</td>\n",
       "      <td>29.82</td>\n",
       "      <td>One</td>\n",
       "      <td>http://books.toscrape.com/../../bridget-joness...</td>\n",
       "    </tr>\n",
       "    <tr>\n",
       "      <th>3</th>\n",
       "      <td>Emma</td>\n",
       "      <td>32.93</td>\n",
       "      <td>Two</td>\n",
       "      <td>http://books.toscrape.com/../../emma_17/index....</td>\n",
       "    </tr>\n",
       "    <tr>\n",
       "      <th>13</th>\n",
       "      <td>Bleach, Vol. 1: Strawberry and the Soul Reaper...</td>\n",
       "      <td>34.65</td>\n",
       "      <td>Five</td>\n",
       "      <td>http://books.toscrape.com/../../bleach-vol-1-s...</td>\n",
       "    </tr>\n",
       "    <tr>\n",
       "      <th>11</th>\n",
       "      <td>Bounty (Colorado Mountain #7)</td>\n",
       "      <td>37.26</td>\n",
       "      <td>Four</td>\n",
       "      <td>http://books.toscrape.com/../../bounty-colorad...</td>\n",
       "    </tr>\n",
       "    <tr>\n",
       "      <th>0</th>\n",
       "      <td>Frankenstein</td>\n",
       "      <td>38.00</td>\n",
       "      <td>Two</td>\n",
       "      <td>http://books.toscrape.com/../../frankenstein_2...</td>\n",
       "    </tr>\n",
       "    <tr>\n",
       "      <th>9</th>\n",
       "      <td>Bright Lines</td>\n",
       "      <td>39.07</td>\n",
       "      <td>Five</td>\n",
       "      <td>http://books.toscrape.com/../../bright-lines_1...</td>\n",
       "    </tr>\n",
       "    <tr>\n",
       "      <th>2</th>\n",
       "      <td>Fighting Fate (Fighting #6)</td>\n",
       "      <td>39.24</td>\n",
       "      <td>Three</td>\n",
       "      <td>http://books.toscrape.com/../../fighting-fate-...</td>\n",
       "    </tr>\n",
       "    <tr>\n",
       "      <th>8</th>\n",
       "      <td>Charity's Cross (Charles Towne Belles #4)</td>\n",
       "      <td>41.24</td>\n",
       "      <td>One</td>\n",
       "      <td>http://books.toscrape.com/../../charitys-cross...</td>\n",
       "    </tr>\n",
       "    <tr>\n",
       "      <th>14</th>\n",
       "      <td>Beyond Good and Evil</td>\n",
       "      <td>43.38</td>\n",
       "      <td>One</td>\n",
       "      <td>http://books.toscrape.com/../../beyond-good-an...</td>\n",
       "    </tr>\n",
       "    <tr>\n",
       "      <th>5</th>\n",
       "      <td>Deep Under (Walker Security #1)</td>\n",
       "      <td>47.09</td>\n",
       "      <td>Five</td>\n",
       "      <td>http://books.toscrape.com/../../deep-under-wal...</td>\n",
       "    </tr>\n",
       "    <tr>\n",
       "      <th>4</th>\n",
       "      <td>Eat, Pray, Love</td>\n",
       "      <td>51.32</td>\n",
       "      <td>Three</td>\n",
       "      <td>http://books.toscrape.com/../../eat-pray-love_...</td>\n",
       "    </tr>\n",
       "    <tr>\n",
       "      <th>18</th>\n",
       "      <td>1st to Die (Women's Murder Club #1)</td>\n",
       "      <td>53.98</td>\n",
       "      <td>One</td>\n",
       "      <td>http://books.toscrape.com/../../1st-to-die-wom...</td>\n",
       "    </tr>\n",
       "    <tr>\n",
       "      <th>15</th>\n",
       "      <td>Alice in Wonderland (Alice's Adventures in Won...</td>\n",
       "      <td>55.53</td>\n",
       "      <td>One</td>\n",
       "      <td>http://books.toscrape.com/../../alice-in-wonde...</td>\n",
       "    </tr>\n",
       "    <tr>\n",
       "      <th>16</th>\n",
       "      <td>Ajin: Demi-Human, Volume 1 (Ajin: Demi-Human #1)</td>\n",
       "      <td>57.06</td>\n",
       "      <td>Four</td>\n",
       "      <td>http://books.toscrape.com/../../ajin-demi-huma...</td>\n",
       "    </tr>\n",
       "  </tbody>\n",
       "</table>\n",
       "</div>"
      ],
      "text/plain": [
       "                                                Title  Price Rating  \\\n",
       "17  A Spy's Devotion (The Regency Spies of London #1)  16.97   Five   \n",
       "12               Blood Defense (Samantha Brinkman #1)  20.30  Three   \n",
       "7   Charlie and the Chocolate Factory (Charlie Buc...  22.85  Three   \n",
       "19                 1,000 Places to See Before You Die  26.08   Five   \n",
       "6   Choosing Our Religion: The Spiritual Lives of ...  28.42   Four   \n",
       "1                    Forever Rockers (The Rocker #12)  28.80  Three   \n",
       "10           Bridget Jones's Diary (Bridget Jones #1)  29.82    One   \n",
       "3                                                Emma  32.93    Two   \n",
       "13  Bleach, Vol. 1: Strawberry and the Soul Reaper...  34.65   Five   \n",
       "11                      Bounty (Colorado Mountain #7)  37.26   Four   \n",
       "0                                        Frankenstein  38.00    Two   \n",
       "9                                        Bright Lines  39.07   Five   \n",
       "2                         Fighting Fate (Fighting #6)  39.24  Three   \n",
       "8           Charity's Cross (Charles Towne Belles #4)  41.24    One   \n",
       "14                               Beyond Good and Evil  43.38    One   \n",
       "5                     Deep Under (Walker Security #1)  47.09   Five   \n",
       "4                                     Eat, Pray, Love  51.32  Three   \n",
       "18                1st to Die (Women's Murder Club #1)  53.98    One   \n",
       "15  Alice in Wonderland (Alice's Adventures in Won...  55.53    One   \n",
       "16   Ajin: Demi-Human, Volume 1 (Ajin: Demi-Human #1)  57.06   Four   \n",
       "\n",
       "                                                 Link  \n",
       "17  http://books.toscrape.com/../../a-spys-devotio...  \n",
       "12  http://books.toscrape.com/../../blood-defense-...  \n",
       "7   http://books.toscrape.com/../../charlie-and-th...  \n",
       "19  http://books.toscrape.com/../../1000-places-to...  \n",
       "6   http://books.toscrape.com/../../choosing-our-r...  \n",
       "1   http://books.toscrape.com/../../forever-rocker...  \n",
       "10  http://books.toscrape.com/../../bridget-joness...  \n",
       "3   http://books.toscrape.com/../../emma_17/index....  \n",
       "13  http://books.toscrape.com/../../bleach-vol-1-s...  \n",
       "11  http://books.toscrape.com/../../bounty-colorad...  \n",
       "0   http://books.toscrape.com/../../frankenstein_2...  \n",
       "9   http://books.toscrape.com/../../bright-lines_1...  \n",
       "2   http://books.toscrape.com/../../fighting-fate-...  \n",
       "8   http://books.toscrape.com/../../charitys-cross...  \n",
       "14  http://books.toscrape.com/../../beyond-good-an...  \n",
       "5   http://books.toscrape.com/../../deep-under-wal...  \n",
       "4   http://books.toscrape.com/../../eat-pray-love_...  \n",
       "18  http://books.toscrape.com/../../1st-to-die-wom...  \n",
       "15  http://books.toscrape.com/../../alice-in-wonde...  \n",
       "16  http://books.toscrape.com/../../ajin-demi-huma...  "
      ]
     },
     "execution_count": 88,
     "metadata": {},
     "output_type": "execute_result"
    }
   ],
   "source": [
    "df.sort_values(by='Price')"
   ]
  },
  {
   "cell_type": "markdown",
   "id": "1308f09b",
   "metadata": {},
   "source": [
    "### Now let's scrape more than just the first page\n",
    "\n",
    "Here, I will put all the codes above in a single cell, and we are going to scrape data from all the pages in the Book-To-scarpe site. we are going to use a for loop. Note the url is now in a string format, and the for loop will run through the 50 pages on the site, scraping 20 items form each pages."
   ]
  },
  {
   "cell_type": "code",
   "execution_count": 89,
   "id": "15da3afa",
   "metadata": {},
   "outputs": [],
   "source": [
    "\n",
    "Title=[]\n",
    "Price=[]\n",
    "Rating=[]\n",
    "Link=[]\n",
    "\n",
    "for i in range(1,51):\n",
    "\n",
    "    url = f'http://books.toscrape.com/catalogue/category/books_1/page-{i}.html'\n",
    "    r = requests.get(url)\n",
    "    soup= BeautifulSoup(r.text, 'html.parser')\n",
    "    allbooks= soup.find('ol')\n",
    "    articles= allbooks.find_all('article', class_='product_pod')\n",
    "\n",
    "\n",
    "\n",
    "    for book in articles:\n",
    "        title = book.a.next_element['alt']\n",
    "        price= float(book.find('p', class_='price_color').text[2:])\n",
    "        rating= book.find('p', class_=\"star-rating\").attrs['class'][1]\n",
    "        url= 'http://books.toscrape.com/'\n",
    "        link= url + book.select_one(\".image_container a\" )['href']\n",
    "        Title.append(title)\n",
    "        Price.append(price)\n",
    "        Rating.append(rating)\n",
    "        Link.append(link)\n",
    "\n",
    "\n",
    "df_all = pd.DataFrame({\n",
    "        'Title':Title, 'Price':Price, 'Rating':Rating, 'Link':Link\n",
    "    })\n"
   ]
  },
  {
   "cell_type": "code",
   "execution_count": 83,
   "id": "555e525d",
   "metadata": {},
   "outputs": [
    {
     "data": {
      "text/plain": [
       "(1000, 4)"
      ]
     },
     "execution_count": 83,
     "metadata": {},
     "output_type": "execute_result"
    }
   ],
   "source": [
    "df_all.shape"
   ]
  },
  {
   "cell_type": "code",
   "execution_count": 90,
   "id": "88fd290e",
   "metadata": {},
   "outputs": [
    {
     "data": {
      "text/html": [
       "<div>\n",
       "<style scoped>\n",
       "    .dataframe tbody tr th:only-of-type {\n",
       "        vertical-align: middle;\n",
       "    }\n",
       "\n",
       "    .dataframe tbody tr th {\n",
       "        vertical-align: top;\n",
       "    }\n",
       "\n",
       "    .dataframe thead th {\n",
       "        text-align: right;\n",
       "    }\n",
       "</style>\n",
       "<table border=\"1\" class=\"dataframe\">\n",
       "  <thead>\n",
       "    <tr style=\"text-align: right;\">\n",
       "      <th></th>\n",
       "      <th>Title</th>\n",
       "      <th>Price</th>\n",
       "      <th>Rating</th>\n",
       "      <th>Link</th>\n",
       "    </tr>\n",
       "  </thead>\n",
       "  <tbody>\n",
       "    <tr>\n",
       "      <th>638</th>\n",
       "      <td>An Abundance of Katherines</td>\n",
       "      <td>10.00</td>\n",
       "      <td>Five</td>\n",
       "      <td>http://books.toscrape.com/../../an-abundance-o...</td>\n",
       "    </tr>\n",
       "    <tr>\n",
       "      <th>501</th>\n",
       "      <td>The Origin of Species</td>\n",
       "      <td>10.01</td>\n",
       "      <td>Four</td>\n",
       "      <td>http://books.toscrape.com/../../the-origin-of-...</td>\n",
       "    </tr>\n",
       "    <tr>\n",
       "      <th>716</th>\n",
       "      <td>The Tipping Point: How Little Things Can Make ...</td>\n",
       "      <td>10.02</td>\n",
       "      <td>Two</td>\n",
       "      <td>http://books.toscrape.com/../../the-tipping-po...</td>\n",
       "    </tr>\n",
       "    <tr>\n",
       "      <th>84</th>\n",
       "      <td>Patience</td>\n",
       "      <td>10.16</td>\n",
       "      <td>Three</td>\n",
       "      <td>http://books.toscrape.com/../../patience_916/i...</td>\n",
       "    </tr>\n",
       "    <tr>\n",
       "      <th>302</th>\n",
       "      <td>Greek Mythic History</td>\n",
       "      <td>10.23</td>\n",
       "      <td>Five</td>\n",
       "      <td>http://books.toscrape.com/../../greek-mythic-h...</td>\n",
       "    </tr>\n",
       "    <tr>\n",
       "      <th>...</th>\n",
       "      <td>...</td>\n",
       "      <td>...</td>\n",
       "      <td>...</td>\n",
       "      <td>...</td>\n",
       "    </tr>\n",
       "    <tr>\n",
       "      <th>366</th>\n",
       "      <td>The Diary of a Young Girl</td>\n",
       "      <td>59.90</td>\n",
       "      <td>Three</td>\n",
       "      <td>http://books.toscrape.com/../../the-diary-of-a...</td>\n",
       "    </tr>\n",
       "    <tr>\n",
       "      <th>560</th>\n",
       "      <td>The Barefoot Contessa Cookbook</td>\n",
       "      <td>59.92</td>\n",
       "      <td>Five</td>\n",
       "      <td>http://books.toscrape.com/../../the-barefoot-c...</td>\n",
       "    </tr>\n",
       "    <tr>\n",
       "      <th>860</th>\n",
       "      <td>Civilization and Its Discontents</td>\n",
       "      <td>59.95</td>\n",
       "      <td>Two</td>\n",
       "      <td>http://books.toscrape.com/../../civilization-a...</td>\n",
       "    </tr>\n",
       "    <tr>\n",
       "      <th>617</th>\n",
       "      <td>Last One Home (New Beginnings #1)</td>\n",
       "      <td>59.98</td>\n",
       "      <td>Three</td>\n",
       "      <td>http://books.toscrape.com/../../last-one-home-...</td>\n",
       "    </tr>\n",
       "    <tr>\n",
       "      <th>648</th>\n",
       "      <td>The Perfect Play (Play by Play #1)</td>\n",
       "      <td>59.99</td>\n",
       "      <td>Three</td>\n",
       "      <td>http://books.toscrape.com/../../the-perfect-pl...</td>\n",
       "    </tr>\n",
       "  </tbody>\n",
       "</table>\n",
       "<p>1000 rows × 4 columns</p>\n",
       "</div>"
      ],
      "text/plain": [
       "                                                 Title  Price Rating  \\\n",
       "638                         An Abundance of Katherines  10.00   Five   \n",
       "501                              The Origin of Species  10.01   Four   \n",
       "716  The Tipping Point: How Little Things Can Make ...  10.02    Two   \n",
       "84                                            Patience  10.16  Three   \n",
       "302                               Greek Mythic History  10.23   Five   \n",
       "..                                                 ...    ...    ...   \n",
       "366                          The Diary of a Young Girl  59.90  Three   \n",
       "560                     The Barefoot Contessa Cookbook  59.92   Five   \n",
       "860                   Civilization and Its Discontents  59.95    Two   \n",
       "617                  Last One Home (New Beginnings #1)  59.98  Three   \n",
       "648                 The Perfect Play (Play by Play #1)  59.99  Three   \n",
       "\n",
       "                                                  Link  \n",
       "638  http://books.toscrape.com/../../an-abundance-o...  \n",
       "501  http://books.toscrape.com/../../the-origin-of-...  \n",
       "716  http://books.toscrape.com/../../the-tipping-po...  \n",
       "84   http://books.toscrape.com/../../patience_916/i...  \n",
       "302  http://books.toscrape.com/../../greek-mythic-h...  \n",
       "..                                                 ...  \n",
       "366  http://books.toscrape.com/../../the-diary-of-a...  \n",
       "560  http://books.toscrape.com/../../the-barefoot-c...  \n",
       "860  http://books.toscrape.com/../../civilization-a...  \n",
       "617  http://books.toscrape.com/../../last-one-home-...  \n",
       "648  http://books.toscrape.com/../../the-perfect-pl...  \n",
       "\n",
       "[1000 rows x 4 columns]"
      ]
     },
     "execution_count": 90,
     "metadata": {},
     "output_type": "execute_result"
    }
   ],
   "source": [
    "df_all.sort_values(by='Price')"
   ]
  },
  {
   "cell_type": "markdown",
   "id": "0b4763d3",
   "metadata": {},
   "source": [
    "Now you can export to csv file"
   ]
  },
  {
   "cell_type": "markdown",
   "id": "0a2f2056",
   "metadata": {},
   "source": [
    "## Scraping by Book Genre\n",
    "Finally, I will like to do something interesting. A look at the home page of the site we have been scraping reveals that there are genres of each books. Although we have a total of 1000 books. They belong to different genre. So, we are going to write a function called scrape_book_by_genre() which will scrape books belong to a specific genre. This function will tell us the number of books that belong to this genre and also return a dataframe of the book."
   ]
  },
  {
   "cell_type": "code",
   "execution_count": 96,
   "id": "cc1e485f",
   "metadata": {},
   "outputs": [
    {
     "data": {
      "text/plain": [
       "200"
      ]
     },
     "execution_count": 96,
     "metadata": {},
     "output_type": "execute_result"
    }
   ],
   "source": [
    "url2='https://books.toscrape.com/index.html'\n",
    "r2= requests.get(url2)\n",
    "r2.status_code"
   ]
  },
  {
   "cell_type": "code",
   "execution_count": 97,
   "id": "c52218f2",
   "metadata": {},
   "outputs": [],
   "source": [
    "doc= BeautifulSoup(r2.text, 'html.parser')"
   ]
  },
  {
   "cell_type": "code",
   "execution_count": 118,
   "id": "905293cd",
   "metadata": {},
   "outputs": [],
   "source": [
    "genre_section=doc.find('ul', class_='nav nav-list')\n",
    "genre_list= genre_section.find_all('a')"
   ]
  },
  {
   "cell_type": "code",
   "execution_count": 126,
   "id": "fbcef753",
   "metadata": {},
   "outputs": [],
   "source": [
    "#Let create a dataframe containing the name and link to the book\n",
    "\n",
    "Genre =[]\n",
    "Link=[]\n",
    "\n",
    "for item in genre_list[1:]:\n",
    "    genre = item.text.strip()\n",
    "    link= 'https://books.toscrape.com/'+item['href']\n",
    "    Genre.append(genre)\n",
    "    Link.append(link)\n",
    "    \n",
    "df3 = pd.DataFrame({\n",
    "    'Genre':Genre, 'Link':Link\n",
    "})"
   ]
  },
  {
   "cell_type": "code",
   "execution_count": 127,
   "id": "80e5fcca",
   "metadata": {},
   "outputs": [
    {
     "data": {
      "text/html": [
       "<div>\n",
       "<style scoped>\n",
       "    .dataframe tbody tr th:only-of-type {\n",
       "        vertical-align: middle;\n",
       "    }\n",
       "\n",
       "    .dataframe tbody tr th {\n",
       "        vertical-align: top;\n",
       "    }\n",
       "\n",
       "    .dataframe thead th {\n",
       "        text-align: right;\n",
       "    }\n",
       "</style>\n",
       "<table border=\"1\" class=\"dataframe\">\n",
       "  <thead>\n",
       "    <tr style=\"text-align: right;\">\n",
       "      <th></th>\n",
       "      <th>Genre</th>\n",
       "      <th>Link</th>\n",
       "    </tr>\n",
       "  </thead>\n",
       "  <tbody>\n",
       "    <tr>\n",
       "      <th>0</th>\n",
       "      <td>Travel</td>\n",
       "      <td>https://books.toscrape.com/catalogue/category/...</td>\n",
       "    </tr>\n",
       "    <tr>\n",
       "      <th>1</th>\n",
       "      <td>Mystery</td>\n",
       "      <td>https://books.toscrape.com/catalogue/category/...</td>\n",
       "    </tr>\n",
       "    <tr>\n",
       "      <th>2</th>\n",
       "      <td>Historical Fiction</td>\n",
       "      <td>https://books.toscrape.com/catalogue/category/...</td>\n",
       "    </tr>\n",
       "    <tr>\n",
       "      <th>3</th>\n",
       "      <td>Sequential Art</td>\n",
       "      <td>https://books.toscrape.com/catalogue/category/...</td>\n",
       "    </tr>\n",
       "    <tr>\n",
       "      <th>4</th>\n",
       "      <td>Classics</td>\n",
       "      <td>https://books.toscrape.com/catalogue/category/...</td>\n",
       "    </tr>\n",
       "  </tbody>\n",
       "</table>\n",
       "</div>"
      ],
      "text/plain": [
       "                Genre                                               Link\n",
       "0              Travel  https://books.toscrape.com/catalogue/category/...\n",
       "1             Mystery  https://books.toscrape.com/catalogue/category/...\n",
       "2  Historical Fiction  https://books.toscrape.com/catalogue/category/...\n",
       "3      Sequential Art  https://books.toscrape.com/catalogue/category/...\n",
       "4            Classics  https://books.toscrape.com/catalogue/category/..."
      ]
     },
     "execution_count": 127,
     "metadata": {},
     "output_type": "execute_result"
    }
   ],
   "source": [
    "df3.head()"
   ]
  },
  {
   "cell_type": "code",
   "execution_count": 128,
   "id": "27c1fdd5",
   "metadata": {},
   "outputs": [],
   "source": [
    "url4 =df3.iloc[4][1]"
   ]
  },
  {
   "cell_type": "code",
   "execution_count": 137,
   "id": "fee089ff",
   "metadata": {},
   "outputs": [
    {
     "data": {
      "text/plain": [
       "'Classics'"
      ]
     },
     "execution_count": 137,
     "metadata": {},
     "output_type": "execute_result"
    }
   ],
   "source": [
    "url4name= df3.iloc[4][0]\n",
    "url4name"
   ]
  },
  {
   "cell_type": "markdown",
   "id": "e7391865",
   "metadata": {},
   "source": [
    "* Url4 contains books belonging to the Classics genre"
   ]
  },
  {
   "cell_type": "code",
   "execution_count": 129,
   "id": "a4e1226f",
   "metadata": {},
   "outputs": [
    {
     "data": {
      "text/plain": [
       "'https://books.toscrape.com/catalogue/category/books/classics_6/index.html'"
      ]
     },
     "execution_count": 129,
     "metadata": {},
     "output_type": "execute_result"
    }
   ],
   "source": [
    "url4"
   ]
  },
  {
   "cell_type": "code",
   "execution_count": 139,
   "id": "0698fe9b",
   "metadata": {},
   "outputs": [],
   "source": [
    "\n",
    "def scrape_book_by_genre( urls):\n",
    "    \n",
    "    \"\"\" This function was created to scrape all books belong to each genre found in the site https://books.toscrape.com/catalogue/category/books_1/index.html.\n",
    "        All you need to do is pass the url of a genre and it returns the dataframe with title, price, rating and link.\n",
    "        The returned dataframe is sorted by the price variable. Thus you can see the cheapest and most expensive book per genre.\n",
    "        The function also return the number of books per genre\n",
    "        \n",
    "    \"\"\"\n",
    "    Title=[]\n",
    "    Price=[]\n",
    "    Rating=[]\n",
    "    Link=[]\n",
    "\n",
    "    url = urls\n",
    "    r = requests.get(url)\n",
    "    soup= BeautifulSoup(r.text, 'html.parser')\n",
    "    allbooks= soup.find('ol')\n",
    "    articles= allbooks.find_all('article', class_='product_pod')\n",
    "    for book in articles:\n",
    "        title = book.a.next_element['alt']\n",
    "        price= float(book.find('p', class_='price_color').text[2:])\n",
    "        rating= book.find('p', class_=\"star-rating\").attrs['class'][1]\n",
    "        url= 'http://books.toscrape.com/'\n",
    "        link= url + book.select_one(\".image_container a\" )['href']\n",
    "        Title.append(title)\n",
    "        Price.append(price)\n",
    "        Rating.append(rating)\n",
    "        Link.append(link)\n",
    "        \n",
    "    dfgenre = pd.DataFrame({\n",
    "        'Title':Title, 'Price':Price, 'Rating':Rating, 'Link':Link\n",
    "    })\n",
    "    print(f\"This genre has {dfgenre.shape[0]} books\")\n",
    "    return  dfgenre.sort_values(by='Price')\n"
   ]
  },
  {
   "cell_type": "code",
   "execution_count": 144,
   "id": "8e5ab4f5",
   "metadata": {},
   "outputs": [
    {
     "name": "stdout",
     "output_type": "stream",
     "text": [
      "This genre has 19 books\n"
     ]
    },
    {
     "data": {
      "text/html": [
       "<div>\n",
       "<style scoped>\n",
       "    .dataframe tbody tr th:only-of-type {\n",
       "        vertical-align: middle;\n",
       "    }\n",
       "\n",
       "    .dataframe tbody tr th {\n",
       "        vertical-align: top;\n",
       "    }\n",
       "\n",
       "    .dataframe thead th {\n",
       "        text-align: right;\n",
       "    }\n",
       "</style>\n",
       "<table border=\"1\" class=\"dataframe\">\n",
       "  <thead>\n",
       "    <tr style=\"text-align: right;\">\n",
       "      <th></th>\n",
       "      <th>Title</th>\n",
       "      <th>Price</th>\n",
       "      <th>Rating</th>\n",
       "      <th>Link</th>\n",
       "    </tr>\n",
       "  </thead>\n",
       "  <tbody>\n",
       "    <tr>\n",
       "      <th>3</th>\n",
       "      <td>The Hound of the Baskervilles (Sherlock Holmes...</td>\n",
       "      <td>14.82</td>\n",
       "      <td>Two</td>\n",
       "      <td>http://books.toscrape.com/../../../the-hound-o...</td>\n",
       "    </tr>\n",
       "    <tr>\n",
       "      <th>0</th>\n",
       "      <td>The Secret Garden</td>\n",
       "      <td>15.08</td>\n",
       "      <td>Four</td>\n",
       "      <td>http://books.toscrape.com/../../../the-secret-...</td>\n",
       "    </tr>\n",
       "    <tr>\n",
       "      <th>8</th>\n",
       "      <td>Wuthering Heights</td>\n",
       "      <td>17.73</td>\n",
       "      <td>Three</td>\n",
       "      <td>http://books.toscrape.com/../../../wuthering-h...</td>\n",
       "    </tr>\n",
       "    <tr>\n",
       "      <th>10</th>\n",
       "      <td>The Complete Stories and Poems (The Works of E...</td>\n",
       "      <td>26.78</td>\n",
       "      <td>Four</td>\n",
       "      <td>http://books.toscrape.com/../../../the-complet...</td>\n",
       "    </tr>\n",
       "    <tr>\n",
       "      <th>4</th>\n",
       "      <td>Little Women (Little Women #1)</td>\n",
       "      <td>28.07</td>\n",
       "      <td>Four</td>\n",
       "      <td>http://books.toscrape.com/../../../little-wome...</td>\n",
       "    </tr>\n",
       "    <tr>\n",
       "      <th>1</th>\n",
       "      <td>The Metamorphosis</td>\n",
       "      <td>28.58</td>\n",
       "      <td>One</td>\n",
       "      <td>http://books.toscrape.com/../../../the-metamor...</td>\n",
       "    </tr>\n",
       "    <tr>\n",
       "      <th>9</th>\n",
       "      <td>The Picture of Dorian Gray</td>\n",
       "      <td>29.70</td>\n",
       "      <td>Two</td>\n",
       "      <td>http://books.toscrape.com/../../../the-picture...</td>\n",
       "    </tr>\n",
       "    <tr>\n",
       "      <th>5</th>\n",
       "      <td>Gone with the Wind</td>\n",
       "      <td>32.49</td>\n",
       "      <td>Three</td>\n",
       "      <td>http://books.toscrape.com/../../../gone-with-t...</td>\n",
       "    </tr>\n",
       "    <tr>\n",
       "      <th>17</th>\n",
       "      <td>Emma</td>\n",
       "      <td>32.93</td>\n",
       "      <td>Two</td>\n",
       "      <td>http://books.toscrape.com/../../../emma_17/ind...</td>\n",
       "    </tr>\n",
       "    <tr>\n",
       "      <th>12</th>\n",
       "      <td>And Then There Were None</td>\n",
       "      <td>35.01</td>\n",
       "      <td>Two</td>\n",
       "      <td>http://books.toscrape.com/../../../and-then-th...</td>\n",
       "    </tr>\n",
       "    <tr>\n",
       "      <th>15</th>\n",
       "      <td>Sense and Sensibility</td>\n",
       "      <td>37.46</td>\n",
       "      <td>One</td>\n",
       "      <td>http://books.toscrape.com/../../../sense-and-s...</td>\n",
       "    </tr>\n",
       "    <tr>\n",
       "      <th>11</th>\n",
       "      <td>Beowulf</td>\n",
       "      <td>38.35</td>\n",
       "      <td>Two</td>\n",
       "      <td>http://books.toscrape.com/../../../beowulf_126...</td>\n",
       "    </tr>\n",
       "    <tr>\n",
       "      <th>13</th>\n",
       "      <td>The Story of Hong Gildong</td>\n",
       "      <td>43.19</td>\n",
       "      <td>Four</td>\n",
       "      <td>http://books.toscrape.com/../../../the-story-o...</td>\n",
       "    </tr>\n",
       "    <tr>\n",
       "      <th>14</th>\n",
       "      <td>The Little Prince</td>\n",
       "      <td>45.42</td>\n",
       "      <td>Two</td>\n",
       "      <td>http://books.toscrape.com/../../../the-little-...</td>\n",
       "    </tr>\n",
       "    <tr>\n",
       "      <th>16</th>\n",
       "      <td>Of Mice and Men</td>\n",
       "      <td>47.11</td>\n",
       "      <td>Two</td>\n",
       "      <td>http://books.toscrape.com/../../../of-mice-and...</td>\n",
       "    </tr>\n",
       "    <tr>\n",
       "      <th>2</th>\n",
       "      <td>The Pilgrim's Progress</td>\n",
       "      <td>50.26</td>\n",
       "      <td>Two</td>\n",
       "      <td>http://books.toscrape.com/../../../the-pilgrim...</td>\n",
       "    </tr>\n",
       "    <tr>\n",
       "      <th>18</th>\n",
       "      <td>Alice in Wonderland (Alice's Adventures in Won...</td>\n",
       "      <td>55.53</td>\n",
       "      <td>One</td>\n",
       "      <td>http://books.toscrape.com/../../../alice-in-wo...</td>\n",
       "    </tr>\n",
       "    <tr>\n",
       "      <th>7</th>\n",
       "      <td>Animal Farm</td>\n",
       "      <td>57.22</td>\n",
       "      <td>Three</td>\n",
       "      <td>http://books.toscrape.com/../../../animal-farm...</td>\n",
       "    </tr>\n",
       "    <tr>\n",
       "      <th>6</th>\n",
       "      <td>Candide</td>\n",
       "      <td>58.63</td>\n",
       "      <td>Three</td>\n",
       "      <td>http://books.toscrape.com/../../../candide_316...</td>\n",
       "    </tr>\n",
       "  </tbody>\n",
       "</table>\n",
       "</div>"
      ],
      "text/plain": [
       "                                                Title  Price Rating  \\\n",
       "3   The Hound of the Baskervilles (Sherlock Holmes...  14.82    Two   \n",
       "0                                   The Secret Garden  15.08   Four   \n",
       "8                                   Wuthering Heights  17.73  Three   \n",
       "10  The Complete Stories and Poems (The Works of E...  26.78   Four   \n",
       "4                      Little Women (Little Women #1)  28.07   Four   \n",
       "1                                   The Metamorphosis  28.58    One   \n",
       "9                          The Picture of Dorian Gray  29.70    Two   \n",
       "5                                  Gone with the Wind  32.49  Three   \n",
       "17                                               Emma  32.93    Two   \n",
       "12                           And Then There Were None  35.01    Two   \n",
       "15                              Sense and Sensibility  37.46    One   \n",
       "11                                            Beowulf  38.35    Two   \n",
       "13                          The Story of Hong Gildong  43.19   Four   \n",
       "14                                  The Little Prince  45.42    Two   \n",
       "16                                    Of Mice and Men  47.11    Two   \n",
       "2                              The Pilgrim's Progress  50.26    Two   \n",
       "18  Alice in Wonderland (Alice's Adventures in Won...  55.53    One   \n",
       "7                                         Animal Farm  57.22  Three   \n",
       "6                                             Candide  58.63  Three   \n",
       "\n",
       "                                                 Link  \n",
       "3   http://books.toscrape.com/../../../the-hound-o...  \n",
       "0   http://books.toscrape.com/../../../the-secret-...  \n",
       "8   http://books.toscrape.com/../../../wuthering-h...  \n",
       "10  http://books.toscrape.com/../../../the-complet...  \n",
       "4   http://books.toscrape.com/../../../little-wome...  \n",
       "1   http://books.toscrape.com/../../../the-metamor...  \n",
       "9   http://books.toscrape.com/../../../the-picture...  \n",
       "5   http://books.toscrape.com/../../../gone-with-t...  \n",
       "17  http://books.toscrape.com/../../../emma_17/ind...  \n",
       "12  http://books.toscrape.com/../../../and-then-th...  \n",
       "15  http://books.toscrape.com/../../../sense-and-s...  \n",
       "11  http://books.toscrape.com/../../../beowulf_126...  \n",
       "13  http://books.toscrape.com/../../../the-story-o...  \n",
       "14  http://books.toscrape.com/../../../the-little-...  \n",
       "16  http://books.toscrape.com/../../../of-mice-and...  \n",
       "2   http://books.toscrape.com/../../../the-pilgrim...  \n",
       "18  http://books.toscrape.com/../../../alice-in-wo...  \n",
       "7   http://books.toscrape.com/../../../animal-farm...  \n",
       "6   http://books.toscrape.com/../../../candide_316...  "
      ]
     },
     "execution_count": 144,
     "metadata": {},
     "output_type": "execute_result"
    }
   ],
   "source": [
    "scrape_book_by_genre(url4)"
   ]
  },
  {
   "cell_type": "markdown",
   "id": "dceeb3be",
   "metadata": {},
   "source": [
    "# The END"
   ]
  }
 ],
 "metadata": {
  "kernelspec": {
   "display_name": "Python 3 (ipykernel)",
   "language": "python",
   "name": "python3"
  },
  "language_info": {
   "codemirror_mode": {
    "name": "ipython",
    "version": 3
   },
   "file_extension": ".py",
   "mimetype": "text/x-python",
   "name": "python",
   "nbconvert_exporter": "python",
   "pygments_lexer": "ipython3",
   "version": "3.9.13"
  }
 },
 "nbformat": 4,
 "nbformat_minor": 5
}
