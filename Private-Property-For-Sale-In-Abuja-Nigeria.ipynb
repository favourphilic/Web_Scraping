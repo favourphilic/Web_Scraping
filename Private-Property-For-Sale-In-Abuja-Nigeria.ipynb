{
 "cells": [
  {
   "cell_type": "markdown",
   "id": "34e832db",
   "metadata": {},
   "source": [
    "## Private-Property For Sale In Abuja, Nigeria.\n",
    "###### Web Scraping with beautifulSoup and Request Library."
   ]
  },
  {
   "cell_type": "markdown",
   "id": "ab5f791a",
   "metadata": {},
   "source": [
    "### Property for sale in Abuja\n",
    "* Getting a property in Abuja, which is the federal capital of Nigeria can be quite tricky, it depends on a number of factores such as your location and budget and this is so because of the availability of  luxurious apartments, houses, and mansions available. Additionally, Abuja has affordable and expensive plots of land available in Abuja.\n",
    "\n",
    "* Asokoro, Maitama, Wuse, and Garki are among the Phase 1 high-end luxury neighborhoods offering high-end rentals.\n",
    "* There are a number of questions you need to ask yourself whenever you decide to pick a property in the federal Capital. Take for example, you should ask yourself if you want to buy Land, Terrace, a mini flat, a two-bedroom flat, a three-bedroom flat, a four-bedroom flat, a five-bedroom flat, a duplex, or something even bigger. You cannot embark on a search for a property to buy if you do not know what you want. \n",
    "\n",
    "### So,\n",
    "  * Project aim is to give you an idea of price variation in diferrent area of Abuja.\n",
    "  * Data will be scraped across all pages of the website so that you can have an informed decision, through insight derived from the dataset.\n",
    "  * You can futher analyse the data to answer various questions like;\n",
    "    * What is the average price of property for sale in Abuja.\n",
    "    * What is the price of the most expensive property in Abuja.\n",
    "    * What is the price and location of the cheapest property in Abuja.\n",
    "    * How many property are currently available for sale in Abuja.\n",
    "  \n",
    "  "
   ]
  },
  {
   "cell_type": "code",
   "execution_count": 2,
   "id": "82ad4a4f",
   "metadata": {},
   "outputs": [],
   "source": [
    "import requests\n",
    "from bs4 import BeautifulSoup\n",
    "import pandas as pd\n",
    "import time"
   ]
  },
  {
   "cell_type": "markdown",
   "id": "23c92da6",
   "metadata": {},
   "source": [
    "* First, we will scrape data from just the first page of the site. After this, I am going to wrap the code in a for loop to scrape data from all the pages on the website.\n",
    "* I have imported the required libraries for this project above. "
   ]
  },
  {
   "cell_type": "code",
   "execution_count": 3,
   "id": "3a22efdf",
   "metadata": {},
   "outputs": [
    {
     "data": {
      "text/plain": [
       "200"
      ]
     },
     "execution_count": 3,
     "metadata": {},
     "output_type": "execute_result"
    }
   ],
   "source": [
    "#The url to scrape\n",
    "url = \"https://www.privateproperty.com.ng/property-for-sale/abuja\"\n",
    "# let's download the page using request lib\n",
    "r = requests.get(url)\n",
    "#let's check the status code, 200 indicate success\n",
    "r.status_code"
   ]
  },
  {
   "cell_type": "code",
   "execution_count": 4,
   "id": "f50d146e",
   "metadata": {},
   "outputs": [
    {
     "data": {
      "text/plain": [
       "bs4.BeautifulSoup"
      ]
     },
     "execution_count": 4,
     "metadata": {},
     "output_type": "execute_result"
    }
   ],
   "source": [
    "# let create a soup object to parse and navigate our webpage\n",
    "soup = BeautifulSoup(r.content, 'html.parser')\n",
    "type(soup)"
   ]
  },
  {
   "cell_type": "code",
   "execution_count": 5,
   "id": "d455dd47",
   "metadata": {},
   "outputs": [],
   "source": [
    "# let's find all block of listings\n",
    "blocklists = soup.find_all('div', class_=\"similar-listings-item\")"
   ]
  },
  {
   "cell_type": "code",
   "execution_count": 6,
   "id": "7ddc3ac3",
   "metadata": {},
   "outputs": [
    {
     "data": {
      "text/plain": [
       "22"
      ]
     },
     "execution_count": 6,
     "metadata": {},
     "output_type": "execute_result"
    }
   ],
   "source": [
    "#check the length of the blocklist if it correspond with the numbers on the first page\n",
    "len(blocklists)"
   ]
  },
  {
   "cell_type": "code",
   "execution_count": 7,
   "id": "abb15c25",
   "metadata": {},
   "outputs": [],
   "source": [
    "#good\n",
    "#now, I will loop through all the block list and get out needed info\n"
   ]
  },
  {
   "cell_type": "code",
   "execution_count": 8,
   "id": "d031ed4b",
   "metadata": {},
   "outputs": [
    {
     "data": {
      "text/plain": [
       "(22, 5)"
      ]
     },
     "execution_count": 8,
     "metadata": {},
     "output_type": "execute_result"
    }
   ],
   "source": [
    "Houses=[]\n",
    "\n",
    "for block in blocklists:\n",
    "    d=dict()\n",
    "    d['name'] = block.select_one(\".similar-listings-info h2\").text\n",
    "    price = block.select_one('.similar-listings-price h4:nth-of-type(1)').text\n",
    "    d['price']= price[2:].strip()\n",
    "    d['date'] = block.select_one(\".media-body h5\").text\n",
    "    d['location'] = block.select_one('.listings-location').text.strip()\n",
    "    d['property_desc'] =block.select_one('.similar-listings-info h3').text\n",
    "    \n",
    "    Houses.append(d)\n",
    "time.sleep(10)\n",
    "Houses_df = pd.DataFrame(Houses)\n",
    "Houses_df.shape\n"
   ]
  },
  {
   "cell_type": "markdown",
   "id": "4a9ab7cf",
   "metadata": {},
   "source": [
    "* Seems each page on the sales property site have 22 hoouse listings."
   ]
  },
  {
   "cell_type": "markdown",
   "id": "de0015d1",
   "metadata": {},
   "source": [
    "## Pagination\n",
    "* Here, We are goin to scrape data from all the pages on the site.\n"
   ]
  },
  {
   "cell_type": "code",
   "execution_count": 13,
   "id": "7f01c2e8",
   "metadata": {},
   "outputs": [
    {
     "data": {
      "text/plain": [
       "(6996, 5)"
      ]
     },
     "execution_count": 13,
     "metadata": {},
     "output_type": "execute_result"
    }
   ],
   "source": [
    "#The url to scrape\n",
    "\n",
    "\n",
    "Houses2=[]\n",
    "for i in range(1,319):\n",
    "    url2 = f\"https://www.privateproperty.com.ng/property-for-sale/abuja?page={i}\"\n",
    "    # let's download the page using request lib\n",
    "    r2 = requests.get(url2)  \n",
    "    r2.status_code\n",
    "    soup2 = BeautifulSoup(r.content, 'html.parser')\n",
    "    # let's find all block of listings\n",
    "    blocklists2 = soup.find_all('div', class_=\"similar-listings-item\")\n",
    "    for block in blocklists2:\n",
    "        d2=dict()\n",
    "        d2['name'] = block.select_one(\".similar-listings-info h2\").text\n",
    "        price = block.select_one('.similar-listings-price h4:nth-of-type(1)').text\n",
    "        d2['price']= price[2:].strip()\n",
    "        d2['date'] = block.select_one(\".media-body h5\").text\n",
    "        d2['location'] = block.select_one('.listings-location').text.strip()\n",
    "        d2['property_desc'] =block.select_one('.similar-listings-info h3').text\n",
    "\n",
    "        Houses2.append(d2)\n",
    "time.sleep(10)\n",
    "Houses_df2 = pd.DataFrame(Houses2)\n",
    "Houses_df2.shape\n"
   ]
  },
  {
   "cell_type": "markdown",
   "id": "b8e5cb64",
   "metadata": {},
   "source": [
    "* So, the for loop keeps running into an error if i tried to scrape more than 320 pages. \n",
    "* If you have a solution to this problem kindly drop it. Thanks"
   ]
  },
  {
   "cell_type": "markdown",
   "id": "1aeb8bf4",
   "metadata": {},
   "source": [
    "* Before we go ahead and save this work in a csv or excel file, I will like to take a look at the top 5 and botton 5 observations from these property lisitings.\n"
   ]
  },
  {
   "cell_type": "code",
   "execution_count": 14,
   "id": "a584bab7",
   "metadata": {},
   "outputs": [
    {
     "data": {
      "text/html": [
       "<div>\n",
       "<style scoped>\n",
       "    .dataframe tbody tr th:only-of-type {\n",
       "        vertical-align: middle;\n",
       "    }\n",
       "\n",
       "    .dataframe tbody tr th {\n",
       "        vertical-align: top;\n",
       "    }\n",
       "\n",
       "    .dataframe thead th {\n",
       "        text-align: right;\n",
       "    }\n",
       "</style>\n",
       "<table border=\"1\" class=\"dataframe\">\n",
       "  <thead>\n",
       "    <tr style=\"text-align: right;\">\n",
       "      <th></th>\n",
       "      <th>name</th>\n",
       "      <th>price</th>\n",
       "      <th>date</th>\n",
       "      <th>location</th>\n",
       "      <th>property_desc</th>\n",
       "    </tr>\n",
       "  </thead>\n",
       "  <tbody>\n",
       "    <tr>\n",
       "      <th>0</th>\n",
       "      <td>Queens Garden Ll</td>\n",
       "      <td>7,500,000</td>\n",
       "      <td>Updated Today</td>\n",
       "      <td>Queens Garden Annex 11 Centenary City Abuja Pl...</td>\n",
       "      <td>LAND For Sale</td>\n",
       "    </tr>\n",
       "    <tr>\n",
       "      <th>1</th>\n",
       "      <td>Queens Garden Ll</td>\n",
       "      <td>7,500,000</td>\n",
       "      <td>Updated Today</td>\n",
       "      <td>Queens Garden Annex 11 Centenary City Abuja Pl...</td>\n",
       "      <td>LAND FOR SALE</td>\n",
       "    </tr>\n",
       "    <tr>\n",
       "      <th>2</th>\n",
       "      <td>Don’t Miss Coral City</td>\n",
       "      <td>2,500,000</td>\n",
       "      <td>Updated Today</td>\n",
       "      <td>Buy 6plots And Get 1 Plot Free At Kuje Abuja K...</td>\n",
       "      <td>LAND FOR SALE</td>\n",
       "    </tr>\n",
       "    <tr>\n",
       "      <th>3</th>\n",
       "      <td>Don’t Miss Buying From Crown Elevation City</td>\n",
       "      <td>5,000,000</td>\n",
       "      <td>Updated Today</td>\n",
       "      <td>100% Dry Land At Behind Cat Matrack Yard, Aco,...</td>\n",
       "      <td>LAND FOR SALE</td>\n",
       "    </tr>\n",
       "    <tr>\n",
       "      <th>4</th>\n",
       "      <td>Tastefully Finished 4 Bedroom Detached Duplex ...</td>\n",
       "      <td>400,000,000</td>\n",
       "      <td>Updated 29 May 2023, Added 20 Apr 2023</td>\n",
       "      <td>Guzape Abuja Phase 1 Abuja</td>\n",
       "      <td>4 BEDROOM DUPLEX FOR SALE</td>\n",
       "    </tr>\n",
       "  </tbody>\n",
       "</table>\n",
       "</div>"
      ],
      "text/plain": [
       "                                                name        price  \\\n",
       "0                                   Queens Garden Ll    7,500,000   \n",
       "1                                   Queens Garden Ll    7,500,000   \n",
       "2                              Don’t Miss Coral City    2,500,000   \n",
       "3        Don’t Miss Buying From Crown Elevation City    5,000,000   \n",
       "4  Tastefully Finished 4 Bedroom Detached Duplex ...  400,000,000   \n",
       "\n",
       "                                     date  \\\n",
       "0                           Updated Today   \n",
       "1                           Updated Today   \n",
       "2                           Updated Today   \n",
       "3                           Updated Today   \n",
       "4  Updated 29 May 2023, Added 20 Apr 2023   \n",
       "\n",
       "                                            location  \\\n",
       "0  Queens Garden Annex 11 Centenary City Abuja Pl...   \n",
       "1  Queens Garden Annex 11 Centenary City Abuja Pl...   \n",
       "2  Buy 6plots And Get 1 Plot Free At Kuje Abuja K...   \n",
       "3  100% Dry Land At Behind Cat Matrack Yard, Aco,...   \n",
       "4                         Guzape Abuja Phase 1 Abuja   \n",
       "\n",
       "               property_desc  \n",
       "0              LAND For Sale  \n",
       "1              LAND FOR SALE  \n",
       "2              LAND FOR SALE  \n",
       "3              LAND FOR SALE  \n",
       "4  4 BEDROOM DUPLEX FOR SALE  "
      ]
     },
     "execution_count": 14,
     "metadata": {},
     "output_type": "execute_result"
    }
   ],
   "source": [
    "Houses_df2.head()"
   ]
  },
  {
   "cell_type": "code",
   "execution_count": 15,
   "id": "7a15cca6",
   "metadata": {},
   "outputs": [
    {
     "data": {
      "text/html": [
       "<div>\n",
       "<style scoped>\n",
       "    .dataframe tbody tr th:only-of-type {\n",
       "        vertical-align: middle;\n",
       "    }\n",
       "\n",
       "    .dataframe tbody tr th {\n",
       "        vertical-align: top;\n",
       "    }\n",
       "\n",
       "    .dataframe thead th {\n",
       "        text-align: right;\n",
       "    }\n",
       "</style>\n",
       "<table border=\"1\" class=\"dataframe\">\n",
       "  <thead>\n",
       "    <tr style=\"text-align: right;\">\n",
       "      <th></th>\n",
       "      <th>name</th>\n",
       "      <th>price</th>\n",
       "      <th>date</th>\n",
       "      <th>location</th>\n",
       "      <th>property_desc</th>\n",
       "    </tr>\n",
       "  </thead>\n",
       "  <tbody>\n",
       "    <tr>\n",
       "      <th>6991</th>\n",
       "      <td>4 Units Of 4 Bedroom Terrace Duplex With Bq</td>\n",
       "      <td>900,000,000</td>\n",
       "      <td>Updated 27 May 2023, Added 24 Nov 2022</td>\n",
       "      <td>Mabushi Abuja Phase 1 Abuja</td>\n",
       "      <td>4 BEDROOM TERRACE FOR SALE</td>\n",
       "    </tr>\n",
       "    <tr>\n",
       "      <th>6992</th>\n",
       "      <td>Contemporary 5 Bedroom Detached Duplex</td>\n",
       "      <td>200,000,000</td>\n",
       "      <td>Updated 27 May 2023, Added 22 Nov 2022</td>\n",
       "      <td>Apo, Resettlement Zone A Apo Abuja Phase 2 Abuja</td>\n",
       "      <td>5 BEDROOM DUPLEX FOR SALE</td>\n",
       "    </tr>\n",
       "    <tr>\n",
       "      <th>6993</th>\n",
       "      <td>Massive Plaza</td>\n",
       "      <td>800,000,000</td>\n",
       "      <td>Updated 27 May 2023, Added 22 Nov 2022</td>\n",
       "      <td>Mabuchi Abuja Phase 2 Abuja</td>\n",
       "      <td>COMMERCIAL PROPERTY FOR SALE</td>\n",
       "    </tr>\n",
       "    <tr>\n",
       "      <th>6994</th>\n",
       "      <td>3 Bedroom Flat On A Plot Of Land With 3 Toilets</td>\n",
       "      <td>37,000,000</td>\n",
       "      <td>Updated 27 May 2023, Added 22 Nov 2022</td>\n",
       "      <td>Lokogoma Abuja Phase 2 Abuja</td>\n",
       "      <td>3 BEDROOM BUNGALOW FOR SALE</td>\n",
       "    </tr>\n",
       "    <tr>\n",
       "      <th>6995</th>\n",
       "      <td>Newly Built 3bedroom Bungalow With 2 Room Bq</td>\n",
       "      <td>50,000,000</td>\n",
       "      <td>Updated 27 May 2023, Added 22 Nov 2022</td>\n",
       "      <td>Lokogoma Abuja Phase 2 Abuja</td>\n",
       "      <td>3 BEDROOM BUNGALOW FOR SALE</td>\n",
       "    </tr>\n",
       "  </tbody>\n",
       "</table>\n",
       "</div>"
      ],
      "text/plain": [
       "                                                 name        price  \\\n",
       "6991      4 Units Of 4 Bedroom Terrace Duplex With Bq  900,000,000   \n",
       "6992           Contemporary 5 Bedroom Detached Duplex  200,000,000   \n",
       "6993                                    Massive Plaza  800,000,000   \n",
       "6994  3 Bedroom Flat On A Plot Of Land With 3 Toilets   37,000,000   \n",
       "6995     Newly Built 3bedroom Bungalow With 2 Room Bq   50,000,000   \n",
       "\n",
       "                                        date  \\\n",
       "6991  Updated 27 May 2023, Added 24 Nov 2022   \n",
       "6992  Updated 27 May 2023, Added 22 Nov 2022   \n",
       "6993  Updated 27 May 2023, Added 22 Nov 2022   \n",
       "6994  Updated 27 May 2023, Added 22 Nov 2022   \n",
       "6995  Updated 27 May 2023, Added 22 Nov 2022   \n",
       "\n",
       "                                              location  \\\n",
       "6991                       Mabushi Abuja Phase 1 Abuja   \n",
       "6992  Apo, Resettlement Zone A Apo Abuja Phase 2 Abuja   \n",
       "6993                       Mabuchi Abuja Phase 2 Abuja   \n",
       "6994                      Lokogoma Abuja Phase 2 Abuja   \n",
       "6995                      Lokogoma Abuja Phase 2 Abuja   \n",
       "\n",
       "                     property_desc  \n",
       "6991    4 BEDROOM TERRACE FOR SALE  \n",
       "6992     5 BEDROOM DUPLEX FOR SALE  \n",
       "6993  COMMERCIAL PROPERTY FOR SALE  \n",
       "6994   3 BEDROOM BUNGALOW FOR SALE  \n",
       "6995   3 BEDROOM BUNGALOW FOR SALE  "
      ]
     },
     "execution_count": 15,
     "metadata": {},
     "output_type": "execute_result"
    }
   ],
   "source": [
    "Houses_df2.tail()"
   ]
  },
  {
   "cell_type": "code",
   "execution_count": 10,
   "id": "f88b0dc5",
   "metadata": {},
   "outputs": [],
   "source": [
    "# uncomment the next line so that the csv file can be saved into your local repository.\n",
    "#Houses_df2.to_csv(\"PrivatePropertyInAbuja-Nigeria.csv\")"
   ]
  }
 ],
 "metadata": {
  "kernelspec": {
   "display_name": "Python 3 (ipykernel)",
   "language": "python",
   "name": "python3"
  },
  "language_info": {
   "codemirror_mode": {
    "name": "ipython",
    "version": 3
   },
   "file_extension": ".py",
   "mimetype": "text/x-python",
   "name": "python",
   "nbconvert_exporter": "python",
   "pygments_lexer": "ipython3",
   "version": "3.9.13"
  }
 },
 "nbformat": 4,
 "nbformat_minor": 5
}
